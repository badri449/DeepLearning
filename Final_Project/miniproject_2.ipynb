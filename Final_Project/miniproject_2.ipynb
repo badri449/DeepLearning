{
 "cells": [
  {
   "cell_type": "code",
   "execution_count": 18,
   "metadata": {},
   "outputs": [
    {
     "name": "stdout",
     "output_type": "stream",
     "text": [
      "fatal: destination path 'FastSpeech2' already exists and is not an empty directory.\n"
     ]
    }
   ],
   "source": [
    "!git clone https://github.com/ming024/FastSpeech2"
   ]
  },
  {
   "cell_type": "code",
   "execution_count": 21,
   "metadata": {},
   "outputs": [
    {
     "name": "stdout",
     "output_type": "stream",
     "text": [
      "Defaulting to user installation because normal site-packages is not writeable\n",
      "\u001b[31mERROR: Could not open requirements file: [Errno 2] No such file or directory: './fastspeech2_hf/requirements.txt'\u001b[0m\n",
      "\u001b[33mWARNING: You are using pip version 20.2.3; however, version 22.0.4 is available.\n",
      "You should consider upgrading via the '/share/apps/python/3.8.6/intel/bin/python -m pip install --upgrade pip' command.\u001b[0m\n"
     ]
    }
   ],
   "source": [
    "!pip install -r ./fastspeech2_hf/requirements.txt"
   ]
  },
  {
   "cell_type": "code",
   "execution_count": 56,
   "metadata": {
    "collapsed": true,
    "jupyter": {
     "outputs_hidden": true
    }
   },
   "outputs": [
    {
     "name": "stdout",
     "output_type": "stream",
     "text": [
      "Defaulting to user installation because normal site-packages is not writeable\n",
      "Collecting PyYAML==5.4.1\n",
      "  Downloading PyYAML-5.4.1-cp38-cp38-manylinux1_x86_64.whl (662 kB)\n",
      "\u001b[K     |████████████████████████████████| 662 kB 31.4 MB/s eta 0:00:01\n",
      "\u001b[?25hInstalling collected packages: PyYAML\n",
      "\u001b[31mERROR: After October 2020 you may experience errors when installing or updating packages. This is because pip will change the way that it resolves dependency conflicts.\n",
      "\n",
      "We recommend you use --use-feature=2020-resolver to test your packages with the new resolver before it becomes the default.\n",
      "\n",
      "huggingface-hub 0.5.1 requires packaging>=20.9, but you'll have packaging 20.4 which is incompatible.\u001b[0m\n",
      "Successfully installed PyYAML-5.4.1\n",
      "\u001b[33mWARNING: You are using pip version 20.2.3; however, version 22.0.4 is available.\n",
      "You should consider upgrading via the '/share/apps/python/3.8.6/intel/bin/python -m pip install --upgrade pip' command.\u001b[0m\n",
      "Defaulting to user installation because normal site-packages is not writeable\n",
      "Collecting g2p-en==2.1.0\n",
      "  Downloading g2p_en-2.1.0-py3-none-any.whl (3.1 MB)\n",
      "\u001b[K     |████████████████████████████████| 3.1 MB 32.2 MB/s eta 0:00:01\n",
      "\u001b[?25hCollecting nltk>=3.2.4\n",
      "  Downloading nltk-3.7-py3-none-any.whl (1.5 MB)\n",
      "\u001b[K     |████████████████████████████████| 1.5 MB 72.1 MB/s eta 0:00:01\n",
      "\u001b[?25hRequirement already satisfied: inflect>=0.3.1 in ./.local/lib/python3.8/site-packages (from g2p-en==2.1.0) (5.5.2)\n",
      "Requirement already satisfied: numpy>=1.13.1 in /share/apps/python/3.8.6/intel/lib/python3.8/site-packages/numpy-1.19.2-py3.8-linux-x86_64.egg (from g2p-en==2.1.0) (1.19.2)\n",
      "Collecting distance>=0.1.3\n",
      "  Downloading Distance-0.1.3.tar.gz (180 kB)\n",
      "\u001b[K     |████████████████████████████████| 180 kB 94.6 MB/s eta 0:00:01\n",
      "\u001b[?25hRequirement already satisfied: joblib in ./.local/lib/python3.8/site-packages (from nltk>=3.2.4->g2p-en==2.1.0) (1.1.0)\n",
      "Requirement already satisfied: click in ./.local/lib/python3.8/site-packages (from nltk>=3.2.4->g2p-en==2.1.0) (8.0.4)\n",
      "Requirement already satisfied: regex>=2021.8.3 in ./.local/lib/python3.8/site-packages (from nltk>=3.2.4->g2p-en==2.1.0) (2022.3.15)\n",
      "Requirement already satisfied: tqdm in ./.local/lib/python3.8/site-packages (from nltk>=3.2.4->g2p-en==2.1.0) (4.63.1)\n",
      "Building wheels for collected packages: distance\n",
      "  Building wheel for distance (setup.py) ... \u001b[?25ldone\n",
      "\u001b[?25h  Created wheel for distance: filename=Distance-0.1.3-py3-none-any.whl size=16261 sha256=98d1ca31c636584c3a88aabd1276dea2bb81459d1ef68294ec6c8b006956076d\n",
      "  Stored in directory: /home/gl1858/.cache/pip/wheels/fb/a8/64/6edcab63ec51512a87cacf9b3563c711ad6b7b05d61b704493\n",
      "Successfully built distance\n",
      "Installing collected packages: nltk, distance, g2p-en\n",
      "Successfully installed distance-0.1.3 g2p-en-2.1.0 nltk-3.7\n",
      "\u001b[33mWARNING: You are using pip version 20.2.3; however, version 22.0.4 is available.\n",
      "You should consider upgrading via the '/share/apps/python/3.8.6/intel/bin/python -m pip install --upgrade pip' command.\u001b[0m\n",
      "Defaulting to user installation because normal site-packages is not writeable\n",
      "Collecting pypinyin==0.39.0\n",
      "  Downloading pypinyin-0.39.0-py2.py3-none-any.whl (780 kB)\n",
      "\u001b[K     |████████████████████████████████| 780 kB 38.2 MB/s eta 0:00:01\n",
      "\u001b[?25hInstalling collected packages: pypinyin\n",
      "Successfully installed pypinyin-0.39.0\n",
      "\u001b[33mWARNING: You are using pip version 20.2.3; however, version 22.0.4 is available.\n",
      "You should consider upgrading via the '/share/apps/python/3.8.6/intel/bin/python -m pip install --upgrade pip' command.\u001b[0m\n"
     ]
    }
   ],
   "source": [
    "!pip3 install PyYAML==5.4.1\n",
    "!pip3 install g2p-en==2.1.0\n",
    "!pip3 install pypinyin==0.39.0"
   ]
  },
  {
   "cell_type": "code",
   "execution_count": 57,
   "metadata": {},
   "outputs": [
    {
     "name": "stdout",
     "output_type": "stream",
     "text": [
      "Defaulting to user installation because normal site-packages is not writeable\n",
      "Collecting unidecode==1.1.1\n",
      "  Downloading Unidecode-1.1.1-py2.py3-none-any.whl (238 kB)\n",
      "\u001b[K     |████████████████████████████████| 238 kB 38.0 MB/s eta 0:00:01\n",
      "\u001b[?25hInstalling collected packages: unidecode\n",
      "Successfully installed unidecode-1.1.1\n",
      "\u001b[33mWARNING: You are using pip version 20.2.3; however, version 22.0.4 is available.\n",
      "You should consider upgrading via the '/share/apps/python/3.8.6/intel/bin/python -m pip install --upgrade pip' command.\u001b[0m\n"
     ]
    }
   ],
   "source": [
    "!pip3 install unidecode==1.1.1"
   ]
  },
  {
   "cell_type": "code",
   "execution_count": 60,
   "metadata": {},
   "outputs": [
    {
     "name": "stdout",
     "output_type": "stream",
     "text": [
      " Downloads                       hw2tester.tar            \u001b[0m\u001b[01;34mt4.out\u001b[0m/\n",
      " \u001b[01;34mFastSpeech2\u001b[0m/                    \u001b[01;34mitems\u001b[0m/                   \u001b[01;34mt6.out\u001b[0m/\n",
      " \u001b[01;34mHw1Tester\u001b[0m/                      \u001b[01;34mlab3\u001b[0m/                    \u001b[01;34mt7.out\u001b[0m/\n",
      " SparkRDD-share_2G2N166AF.zpln   \u001b[01;34mlab4\u001b[0m/                    \u001b[01;34mt8.out\u001b[0m/\n",
      " SparkSQL-share_2G2T416QV.zpln   \u001b[01;34mlab5\u001b[0m/                    task1-sql.out\n",
      "\u001b[01;34m'Untitled Folder'\u001b[0m/               map.py                   task1-sql.result\n",
      " Untitled.ipynb                  modified_GL_3_14.ipynb   task1.out\n",
      " \u001b[01;34massign1\u001b[0m/                        notebooks.tgz            teetwomerged.txt\n",
      " \u001b[01;34mexample\u001b[0m/                        \u001b[01;34mondemand\u001b[0m/                wc.out\n",
      " \u001b[01;34mexample.out\u001b[0m/                    parking-violations.csv   wikipedia.txt\n",
      " \u001b[01;34mexample4.out\u001b[0m/                   part-00000               wikipedia2.txt\n",
      " examplemerged.txt               reduce.py                wordcount.py\n",
      " \u001b[01;34mhw1\u001b[0m/                            sherlock.txt             wordcountspark.out\n",
      " hw1tester.tar                   \u001b[01;34msrc\u001b[0m/                     \u001b[01;34mzeppelin\u001b[0m/\n",
      " \u001b[34;42mhw2\u001b[0m/                            \u001b[01;34mt2.out\u001b[0m/\n",
      " \u001b[01;34mhw2tester\u001b[0m/                      \u001b[01;34mt3.out\u001b[0m/\n"
     ]
    }
   ],
   "source": [
    "ls"
   ]
  },
  {
   "cell_type": "code",
   "execution_count": 67,
   "metadata": {},
   "outputs": [
    {
     "name": "stdout",
     "output_type": "stream",
     "text": [
      "Removing weight norm...\n",
      "Raw Text Sequence: This is mini group project3 and 4 and 5 six and seven\n",
      "Phoneme Sequence: {DH IH0 S IH0 Z M IH1 N IY0 G R UW1 P P R AH0 JH EH1 K T R IY0 AE1 N D F AO1 R AE1 N D F AY1 V S IH1 K S AE1 N D S EH1 V AH0 N}\n"
     ]
    }
   ],
   "source": [
    "!python3 synthesize.py --text \"This is mini group project3 and 4 and 5 six and seven\" --restore_step 900000 --mode single -p config/LJSpeech/preprocess.yaml -m config/LJSpeech/model.yaml -t config/LJSpeech/train.yaml"
   ]
  },
  {
   "cell_type": "code",
   "execution_count": null,
   "metadata": {},
   "outputs": [
    {
     "name": "stdout",
     "output_type": "stream",
     "text": [
      "TensorFlow installation not found - running with reduced feature set.\n",
      "\n",
      "NOTE: Using experimental fast data loading logic. To disable, pass\n",
      "    \"--load_fast=false\" and report issues on GitHub. More details:\n",
      "    https://github.com/tensorflow/tensorboard/issues/4784\n",
      "\n",
      "Serving TensorBoard on localhost; to expose to the network, use a proxy or pass --bind_all\n",
      "TensorBoard 2.8.0 at http://localhost:6006/ (Press CTRL+C to quit)\n"
     ]
    }
   ],
   "source": [
    "!tensorboard --logdir output/log/LJSpeech"
   ]
  },
  {
   "cell_type": "code",
   "execution_count": null,
   "metadata": {},
   "outputs": [],
   "source": [
    "%reload_ext tensorboard\n",
    "%tensorboard --logdir output/log/LJSpeech"
   ]
  },
  {
   "cell_type": "code",
   "execution_count": null,
   "metadata": {},
   "outputs": [],
   "source": []
  }
 ],
 "metadata": {
  "kernelspec": {
   "display_name": "Python 3",
   "language": "python",
   "name": "python3"
  },
  "language_info": {
   "codemirror_mode": {
    "name": "ipython",
    "version": 3
   },
   "file_extension": ".py",
   "mimetype": "text/x-python",
   "name": "python",
   "nbconvert_exporter": "python",
   "pygments_lexer": "ipython3",
   "version": "3.8.6"
  }
 },
 "nbformat": 4,
 "nbformat_minor": 4
}
