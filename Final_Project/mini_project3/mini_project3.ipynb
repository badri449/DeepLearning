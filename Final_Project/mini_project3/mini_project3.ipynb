{
  "cells": [
    {
      "cell_type": "code",
      "source": [
        "from google.colab import drive\n",
        "drive.mount('/content/drive')"
      ],
      "metadata": {
        "colab": {
          "base_uri": "https://localhost:8080/"
        },
        "id": "iVWYVnOwlKuf",
        "outputId": "c1229e67-0ac5-4b46-aebc-631e255c1f55"
      },
      "execution_count": null,
      "outputs": [
        {
          "output_type": "stream",
          "name": "stdout",
          "text": [
            "Mounted at /content/drive\n"
          ]
        }
      ]
    },
    {
      "cell_type": "code",
      "source": [
        "\n"
      ],
      "metadata": {
        "colab": {
          "base_uri": "https://localhost:8080/",
          "height": 1000
        },
        "id": "TyuvxcJV7U7_",
        "outputId": "a9ab76fb-31fd-43ee-f276-b46a8924d64f"
      },
      "execution_count": null,
      "outputs": [
        {
          "output_type": "stream",
          "name": "stdout",
          "text": [
            "Collecting TTS\n",
            "  Downloading TTS-0.6.2.tar.gz (1.3 MB)\n",
            "\u001b[?25l\r\u001b[K     |▎                               | 10 kB 26.7 MB/s eta 0:00:01\r\u001b[K     |▌                               | 20 kB 17.1 MB/s eta 0:00:01\r\u001b[K     |▊                               | 30 kB 13.6 MB/s eta 0:00:01\r\u001b[K     |█                               | 40 kB 12.8 MB/s eta 0:00:01\r\u001b[K     |█▎                              | 51 kB 6.1 MB/s eta 0:00:01\r\u001b[K     |█▌                              | 61 kB 7.1 MB/s eta 0:00:01\r\u001b[K     |█▊                              | 71 kB 8.1 MB/s eta 0:00:01\r\u001b[K     |██                              | 81 kB 7.8 MB/s eta 0:00:01\r\u001b[K     |██▏                             | 92 kB 8.7 MB/s eta 0:00:01\r\u001b[K     |██▌                             | 102 kB 7.3 MB/s eta 0:00:01\r\u001b[K     |██▊                             | 112 kB 7.3 MB/s eta 0:00:01\r\u001b[K     |███                             | 122 kB 7.3 MB/s eta 0:00:01\r\u001b[K     |███▏                            | 133 kB 7.3 MB/s eta 0:00:01\r\u001b[K     |███▍                            | 143 kB 7.3 MB/s eta 0:00:01\r\u001b[K     |███▊                            | 153 kB 7.3 MB/s eta 0:00:01\r\u001b[K     |████                            | 163 kB 7.3 MB/s eta 0:00:01\r\u001b[K     |████▏                           | 174 kB 7.3 MB/s eta 0:00:01\r\u001b[K     |████▍                           | 184 kB 7.3 MB/s eta 0:00:01\r\u001b[K     |████▋                           | 194 kB 7.3 MB/s eta 0:00:01\r\u001b[K     |█████                           | 204 kB 7.3 MB/s eta 0:00:01\r\u001b[K     |█████▏                          | 215 kB 7.3 MB/s eta 0:00:01\r\u001b[K     |█████▍                          | 225 kB 7.3 MB/s eta 0:00:01\r\u001b[K     |█████▋                          | 235 kB 7.3 MB/s eta 0:00:01\r\u001b[K     |█████▉                          | 245 kB 7.3 MB/s eta 0:00:01\r\u001b[K     |██████▏                         | 256 kB 7.3 MB/s eta 0:00:01\r\u001b[K     |██████▍                         | 266 kB 7.3 MB/s eta 0:00:01\r\u001b[K     |██████▋                         | 276 kB 7.3 MB/s eta 0:00:01\r\u001b[K     |██████▉                         | 286 kB 7.3 MB/s eta 0:00:01\r\u001b[K     |███████▏                        | 296 kB 7.3 MB/s eta 0:00:01\r\u001b[K     |███████▍                        | 307 kB 7.3 MB/s eta 0:00:01\r\u001b[K     |███████▋                        | 317 kB 7.3 MB/s eta 0:00:01\r\u001b[K     |███████▉                        | 327 kB 7.3 MB/s eta 0:00:01\r\u001b[K     |████████                        | 337 kB 7.3 MB/s eta 0:00:01\r\u001b[K     |████████▍                       | 348 kB 7.3 MB/s eta 0:00:01\r\u001b[K     |████████▋                       | 358 kB 7.3 MB/s eta 0:00:01\r\u001b[K     |████████▉                       | 368 kB 7.3 MB/s eta 0:00:01\r\u001b[K     |█████████                       | 378 kB 7.3 MB/s eta 0:00:01\r\u001b[K     |█████████▎                      | 389 kB 7.3 MB/s eta 0:00:01\r\u001b[K     |█████████▋                      | 399 kB 7.3 MB/s eta 0:00:01\r\u001b[K     |█████████▉                      | 409 kB 7.3 MB/s eta 0:00:01\r\u001b[K     |██████████                      | 419 kB 7.3 MB/s eta 0:00:01\r\u001b[K     |██████████▎                     | 430 kB 7.3 MB/s eta 0:00:01\r\u001b[K     |██████████▌                     | 440 kB 7.3 MB/s eta 0:00:01\r\u001b[K     |██████████▉                     | 450 kB 7.3 MB/s eta 0:00:01\r\u001b[K     |███████████                     | 460 kB 7.3 MB/s eta 0:00:01\r\u001b[K     |███████████▎                    | 471 kB 7.3 MB/s eta 0:00:01\r\u001b[K     |███████████▌                    | 481 kB 7.3 MB/s eta 0:00:01\r\u001b[K     |███████████▊                    | 491 kB 7.3 MB/s eta 0:00:01\r\u001b[K     |████████████                    | 501 kB 7.3 MB/s eta 0:00:01\r\u001b[K     |████████████▎                   | 512 kB 7.3 MB/s eta 0:00:01\r\u001b[K     |████████████▌                   | 522 kB 7.3 MB/s eta 0:00:01\r\u001b[K     |████████████▊                   | 532 kB 7.3 MB/s eta 0:00:01\r\u001b[K     |█████████████                   | 542 kB 7.3 MB/s eta 0:00:01\r\u001b[K     |█████████████▎                  | 552 kB 7.3 MB/s eta 0:00:01\r\u001b[K     |█████████████▌                  | 563 kB 7.3 MB/s eta 0:00:01\r\u001b[K     |█████████████▊                  | 573 kB 7.3 MB/s eta 0:00:01\r\u001b[K     |██████████████                  | 583 kB 7.3 MB/s eta 0:00:01\r\u001b[K     |██████████████▎                 | 593 kB 7.3 MB/s eta 0:00:01\r\u001b[K     |██████████████▌                 | 604 kB 7.3 MB/s eta 0:00:01\r\u001b[K     |██████████████▊                 | 614 kB 7.3 MB/s eta 0:00:01\r\u001b[K     |███████████████                 | 624 kB 7.3 MB/s eta 0:00:01\r\u001b[K     |███████████████▏                | 634 kB 7.3 MB/s eta 0:00:01\r\u001b[K     |███████████████▌                | 645 kB 7.3 MB/s eta 0:00:01\r\u001b[K     |███████████████▊                | 655 kB 7.3 MB/s eta 0:00:01\r\u001b[K     |████████████████                | 665 kB 7.3 MB/s eta 0:00:01\r\u001b[K     |████████████████▏               | 675 kB 7.3 MB/s eta 0:00:01\r\u001b[K     |████████████████▍               | 686 kB 7.3 MB/s eta 0:00:01\r\u001b[K     |████████████████▊               | 696 kB 7.3 MB/s eta 0:00:01\r\u001b[K     |█████████████████               | 706 kB 7.3 MB/s eta 0:00:01\r\u001b[K     |█████████████████▏              | 716 kB 7.3 MB/s eta 0:00:01\r\u001b[K     |█████████████████▍              | 727 kB 7.3 MB/s eta 0:00:01\r\u001b[K     |█████████████████▋              | 737 kB 7.3 MB/s eta 0:00:01\r\u001b[K     |██████████████████              | 747 kB 7.3 MB/s eta 0:00:01\r\u001b[K     |██████████████████▏             | 757 kB 7.3 MB/s eta 0:00:01\r\u001b[K     |██████████████████▍             | 768 kB 7.3 MB/s eta 0:00:01\r\u001b[K     |██████████████████▋             | 778 kB 7.3 MB/s eta 0:00:01\r\u001b[K     |██████████████████▉             | 788 kB 7.3 MB/s eta 0:00:01\r\u001b[K     |███████████████████▏            | 798 kB 7.3 MB/s eta 0:00:01\r\u001b[K     |███████████████████▍            | 808 kB 7.3 MB/s eta 0:00:01\r\u001b[K     |███████████████████▋            | 819 kB 7.3 MB/s eta 0:00:01\r\u001b[K     |███████████████████▉            | 829 kB 7.3 MB/s eta 0:00:01\r\u001b[K     |████████████████████            | 839 kB 7.3 MB/s eta 0:00:01\r\u001b[K     |████████████████████▍           | 849 kB 7.3 MB/s eta 0:00:01\r\u001b[K     |████████████████████▋           | 860 kB 7.3 MB/s eta 0:00:01\r\u001b[K     |████████████████████▉           | 870 kB 7.3 MB/s eta 0:00:01\r\u001b[K     |█████████████████████           | 880 kB 7.3 MB/s eta 0:00:01\r\u001b[K     |█████████████████████▍          | 890 kB 7.3 MB/s eta 0:00:01\r\u001b[K     |█████████████████████▋          | 901 kB 7.3 MB/s eta 0:00:01\r\u001b[K     |█████████████████████▉          | 911 kB 7.3 MB/s eta 0:00:01\r\u001b[K     |██████████████████████          | 921 kB 7.3 MB/s eta 0:00:01\r\u001b[K     |██████████████████████▎         | 931 kB 7.3 MB/s eta 0:00:01\r\u001b[K     |██████████████████████▋         | 942 kB 7.3 MB/s eta 0:00:01\r\u001b[K     |██████████████████████▉         | 952 kB 7.3 MB/s eta 0:00:01\r\u001b[K     |███████████████████████         | 962 kB 7.3 MB/s eta 0:00:01\r\u001b[K     |███████████████████████▎        | 972 kB 7.3 MB/s eta 0:00:01\r\u001b[K     |███████████████████████▌        | 983 kB 7.3 MB/s eta 0:00:01\r\u001b[K     |███████████████████████▉        | 993 kB 7.3 MB/s eta 0:00:01\r\u001b[K     |████████████████████████        | 1.0 MB 7.3 MB/s eta 0:00:01\r\u001b[K     |████████████████████████▎       | 1.0 MB 7.3 MB/s eta 0:00:01\r\u001b[K     |████████████████████████▌       | 1.0 MB 7.3 MB/s eta 0:00:01\r\u001b[K     |████████████████████████▊       | 1.0 MB 7.3 MB/s eta 0:00:01\r\u001b[K     |█████████████████████████       | 1.0 MB 7.3 MB/s eta 0:00:01\r\u001b[K     |█████████████████████████▎      | 1.1 MB 7.3 MB/s eta 0:00:01\r\u001b[K     |█████████████████████████▌      | 1.1 MB 7.3 MB/s eta 0:00:01\r\u001b[K     |█████████████████████████▊      | 1.1 MB 7.3 MB/s eta 0:00:01\r\u001b[K     |██████████████████████████      | 1.1 MB 7.3 MB/s eta 0:00:01\r\u001b[K     |██████████████████████████▎     | 1.1 MB 7.3 MB/s eta 0:00:01\r\u001b[K     |██████████████████████████▌     | 1.1 MB 7.3 MB/s eta 0:00:01\r\u001b[K     |██████████████████████████▊     | 1.1 MB 7.3 MB/s eta 0:00:01\r\u001b[K     |███████████████████████████     | 1.1 MB 7.3 MB/s eta 0:00:01\r\u001b[K     |███████████████████████████▎    | 1.1 MB 7.3 MB/s eta 0:00:01\r\u001b[K     |███████████████████████████▌    | 1.1 MB 7.3 MB/s eta 0:00:01\r\u001b[K     |███████████████████████████▊    | 1.2 MB 7.3 MB/s eta 0:00:01\r\u001b[K     |████████████████████████████    | 1.2 MB 7.3 MB/s eta 0:00:01\r\u001b[K     |████████████████████████████▏   | 1.2 MB 7.3 MB/s eta 0:00:01\r\u001b[K     |████████████████████████████▌   | 1.2 MB 7.3 MB/s eta 0:00:01\r\u001b[K     |████████████████████████████▊   | 1.2 MB 7.3 MB/s eta 0:00:01\r\u001b[K     |█████████████████████████████   | 1.2 MB 7.3 MB/s eta 0:00:01\r\u001b[K     |█████████████████████████████▏  | 1.2 MB 7.3 MB/s eta 0:00:01\r\u001b[K     |█████████████████████████████▍  | 1.2 MB 7.3 MB/s eta 0:00:01\r\u001b[K     |█████████████████████████████▊  | 1.2 MB 7.3 MB/s eta 0:00:01\r\u001b[K     |██████████████████████████████  | 1.2 MB 7.3 MB/s eta 0:00:01\r\u001b[K     |██████████████████████████████▏ | 1.3 MB 7.3 MB/s eta 0:00:01\r\u001b[K     |██████████████████████████████▍ | 1.3 MB 7.3 MB/s eta 0:00:01\r\u001b[K     |██████████████████████████████▋ | 1.3 MB 7.3 MB/s eta 0:00:01\r\u001b[K     |███████████████████████████████ | 1.3 MB 7.3 MB/s eta 0:00:01\r\u001b[K     |███████████████████████████████▏| 1.3 MB 7.3 MB/s eta 0:00:01\r\u001b[K     |███████████████████████████████▍| 1.3 MB 7.3 MB/s eta 0:00:01\r\u001b[K     |███████████████████████████████▋| 1.3 MB 7.3 MB/s eta 0:00:01\r\u001b[K     |███████████████████████████████▉| 1.3 MB 7.3 MB/s eta 0:00:01\r\u001b[K     |████████████████████████████████| 1.3 MB 7.3 MB/s \n",
            "\u001b[?25h  Installing build dependencies ... \u001b[?25l\u001b[?25hdone\n",
            "  Getting requirements to build wheel ... \u001b[?25l\u001b[?25hdone\n",
            "    Preparing wheel metadata ... \u001b[?25l\u001b[?25hdone\n",
            "Collecting mecab-python3==1.0.3\n",
            "  Downloading mecab_python3-1.0.3-cp37-cp37m-manylinux1_x86_64.whl (487 kB)\n",
            "\u001b[K     |████████████████████████████████| 487 kB 51.0 MB/s \n",
            "\u001b[?25hRequirement already satisfied: flask in /usr/local/lib/python3.7/dist-packages (from TTS) (1.1.4)\n",
            "Requirement already satisfied: tqdm in /usr/local/lib/python3.7/dist-packages (from TTS) (4.64.0)\n",
            "Requirement already satisfied: umap-learn==0.5.1 in /usr/local/lib/python3.7/dist-packages (from TTS) (0.5.1)\n",
            "Requirement already satisfied: trainer in /usr/local/lib/python3.7/dist-packages (from TTS) (0.0.11)\n",
            "Requirement already satisfied: matplotlib in /usr/local/lib/python3.7/dist-packages (from TTS) (3.2.2)\n",
            "Requirement already satisfied: anyascii in /usr/local/lib/python3.7/dist-packages (from TTS) (0.3.1)\n",
            "Requirement already satisfied: torchaudio in /usr/local/lib/python3.7/dist-packages (from TTS) (0.11.0+cu113)\n",
            "Requirement already satisfied: fsspec>=2021.04.0 in /usr/local/lib/python3.7/dist-packages (from TTS) (2022.3.0)\n",
            "Requirement already satisfied: pyyaml in /usr/local/lib/python3.7/dist-packages (from TTS) (3.13)\n",
            "Requirement already satisfied: tensorboardX in /usr/local/lib/python3.7/dist-packages (from TTS) (2.5)\n",
            "Requirement already satisfied: jieba in /usr/local/lib/python3.7/dist-packages (from TTS) (0.42.1)\n",
            "Requirement already satisfied: pandas in /usr/local/lib/python3.7/dist-packages (from TTS) (1.3.5)\n",
            "Requirement already satisfied: librosa==0.8.0 in /usr/local/lib/python3.7/dist-packages (from TTS) (0.8.0)\n",
            "Requirement already satisfied: scipy>=1.4.0 in /usr/local/lib/python3.7/dist-packages (from TTS) (1.4.1)\n",
            "Requirement already satisfied: cython in /usr/local/lib/python3.7/dist-packages (from TTS) (0.29.28)\n",
            "Requirement already satisfied: torch>=1.7 in /usr/local/lib/python3.7/dist-packages (from TTS) (1.11.0+cu113)\n",
            "Requirement already satisfied: gruut[cs,de,es,fr,it,nl,pt,ru,sv]==2.2.3 in /usr/local/lib/python3.7/dist-packages (from TTS) (2.2.3)\n",
            "Requirement already satisfied: coqpit in /usr/local/lib/python3.7/dist-packages (from TTS) (0.0.16)\n",
            "Collecting numba==0.53\n",
            "  Downloading numba-0.53.0-cp37-cp37m-manylinux2014_x86_64.whl (3.4 MB)\n",
            "\u001b[K     |████████████████████████████████| 3.4 MB 36.2 MB/s \n",
            "\u001b[?25hRequirement already satisfied: pysbd in /usr/local/lib/python3.7/dist-packages (from TTS) (0.3.4)\n",
            "Requirement already satisfied: unidic-lite==1.0.8 in /usr/local/lib/python3.7/dist-packages (from TTS) (1.0.8)\n",
            "Requirement already satisfied: pypinyin in /usr/local/lib/python3.7/dist-packages (from TTS) (0.46.0)\n",
            "Requirement already satisfied: pyworld in /usr/local/lib/python3.7/dist-packages (from TTS) (0.2.10)\n",
            "Collecting numpy==1.19.5\n",
            "  Using cached numpy-1.19.5-cp37-cp37m-manylinux2010_x86_64.whl (14.8 MB)\n",
            "Requirement already satisfied: inflect in /usr/local/lib/python3.7/dist-packages (from TTS) (2.1.0)\n",
            "Requirement already satisfied: soundfile in /usr/local/lib/python3.7/dist-packages (from TTS) (0.10.3.post1)\n",
            "Requirement already satisfied: Babel<3.0.0,>=2.8.0 in /usr/local/lib/python3.7/dist-packages (from gruut[cs,de,es,fr,it,nl,pt,ru,sv]==2.2.3->TTS) (2.10.1)\n",
            "Requirement already satisfied: importlib-resources in /usr/local/lib/python3.7/dist-packages (from gruut[cs,de,es,fr,it,nl,pt,ru,sv]==2.2.3->TTS) (5.7.1)\n",
            "Requirement already satisfied: dateparser~=1.1.0 in /usr/local/lib/python3.7/dist-packages (from gruut[cs,de,es,fr,it,nl,pt,ru,sv]==2.2.3->TTS) (1.1.1)\n",
            "Requirement already satisfied: python-crfsuite~=0.9.7 in /usr/local/lib/python3.7/dist-packages (from gruut[cs,de,es,fr,it,nl,pt,ru,sv]==2.2.3->TTS) (0.9.8)\n",
            "Requirement already satisfied: gruut-ipa<1.0,>=0.12.0 in /usr/local/lib/python3.7/dist-packages (from gruut[cs,de,es,fr,it,nl,pt,ru,sv]==2.2.3->TTS) (0.13.0)\n",
            "Requirement already satisfied: jsonlines~=1.2.0 in /usr/local/lib/python3.7/dist-packages (from gruut[cs,de,es,fr,it,nl,pt,ru,sv]==2.2.3->TTS) (1.2.0)\n",
            "Requirement already satisfied: num2words<1.0.0,>=0.5.10 in /usr/local/lib/python3.7/dist-packages (from gruut[cs,de,es,fr,it,nl,pt,ru,sv]==2.2.3->TTS) (0.5.10)\n",
            "Requirement already satisfied: networkx<3.0.0,>=2.5.0 in /usr/local/lib/python3.7/dist-packages (from gruut[cs,de,es,fr,it,nl,pt,ru,sv]==2.2.3->TTS) (2.6.3)\n",
            "Requirement already satisfied: gruut-lang-en~=2.0.0 in /usr/local/lib/python3.7/dist-packages (from gruut[cs,de,es,fr,it,nl,pt,ru,sv]==2.2.3->TTS) (2.0.0)\n",
            "Requirement already satisfied: gruut-lang-nl~=2.0.0 in /usr/local/lib/python3.7/dist-packages (from gruut[cs,de,es,fr,it,nl,pt,ru,sv]==2.2.3->TTS) (2.0.2)\n",
            "Requirement already satisfied: gruut-lang-sv~=2.0.0 in /usr/local/lib/python3.7/dist-packages (from gruut[cs,de,es,fr,it,nl,pt,ru,sv]==2.2.3->TTS) (2.0.0)\n",
            "Requirement already satisfied: gruut-lang-fr~=2.0.0 in /usr/local/lib/python3.7/dist-packages (from gruut[cs,de,es,fr,it,nl,pt,ru,sv]==2.2.3->TTS) (2.0.2)\n",
            "Requirement already satisfied: gruut-lang-ru~=2.0.0 in /usr/local/lib/python3.7/dist-packages (from gruut[cs,de,es,fr,it,nl,pt,ru,sv]==2.2.3->TTS) (2.0.0)\n",
            "Requirement already satisfied: gruut-lang-it~=2.0.0 in /usr/local/lib/python3.7/dist-packages (from gruut[cs,de,es,fr,it,nl,pt,ru,sv]==2.2.3->TTS) (2.0.0)\n",
            "Requirement already satisfied: gruut-lang-cs~=2.0.0 in /usr/local/lib/python3.7/dist-packages (from gruut[cs,de,es,fr,it,nl,pt,ru,sv]==2.2.3->TTS) (2.0.0)\n",
            "Requirement already satisfied: gruut-lang-es~=2.0.0 in /usr/local/lib/python3.7/dist-packages (from gruut[cs,de,es,fr,it,nl,pt,ru,sv]==2.2.3->TTS) (2.0.0)\n",
            "Requirement already satisfied: gruut-lang-de~=2.0.0 in /usr/local/lib/python3.7/dist-packages (from gruut[cs,de,es,fr,it,nl,pt,ru,sv]==2.2.3->TTS) (2.0.0)\n",
            "Requirement already satisfied: gruut-lang-pt~=2.0.0 in /usr/local/lib/python3.7/dist-packages (from gruut[cs,de,es,fr,it,nl,pt,ru,sv]==2.2.3->TTS) (2.0.0)\n",
            "Requirement already satisfied: resampy>=0.2.2 in /usr/local/lib/python3.7/dist-packages (from librosa==0.8.0->TTS) (0.2.2)\n",
            "Requirement already satisfied: joblib>=0.14 in /usr/local/lib/python3.7/dist-packages (from librosa==0.8.0->TTS) (1.1.0)\n",
            "Requirement already satisfied: scikit-learn!=0.19.0,>=0.14.0 in /usr/local/lib/python3.7/dist-packages (from librosa==0.8.0->TTS) (1.0.2)\n",
            "Requirement already satisfied: decorator>=3.0.0 in /usr/local/lib/python3.7/dist-packages (from librosa==0.8.0->TTS) (4.4.2)\n",
            "Requirement already satisfied: pooch>=1.0 in /usr/local/lib/python3.7/dist-packages (from librosa==0.8.0->TTS) (1.6.0)\n",
            "Requirement already satisfied: audioread>=2.0.0 in /usr/local/lib/python3.7/dist-packages (from librosa==0.8.0->TTS) (2.1.9)\n",
            "Collecting llvmlite<0.37,>=0.36.0rc1\n",
            "  Downloading llvmlite-0.36.0-cp37-cp37m-manylinux2010_x86_64.whl (25.3 MB)\n",
            "\u001b[K     |████████████████████████████████| 25.3 MB 46.2 MB/s \n",
            "\u001b[?25hRequirement already satisfied: setuptools in /usr/local/lib/python3.7/dist-packages (from numba==0.53->TTS) (57.4.0)\n",
            "Requirement already satisfied: pynndescent>=0.5 in /usr/local/lib/python3.7/dist-packages (from umap-learn==0.5.1->TTS) (0.5.7)\n",
            "Requirement already satisfied: pytz>=2015.7 in /usr/local/lib/python3.7/dist-packages (from Babel<3.0.0,>=2.8.0->gruut[cs,de,es,fr,it,nl,pt,ru,sv]==2.2.3->TTS) (2022.1)\n",
            "Requirement already satisfied: regex!=2019.02.19,!=2021.8.27,<2022.3.15 in /usr/local/lib/python3.7/dist-packages (from dateparser~=1.1.0->gruut[cs,de,es,fr,it,nl,pt,ru,sv]==2.2.3->TTS) (2019.12.20)\n",
            "Requirement already satisfied: python-dateutil in /usr/local/lib/python3.7/dist-packages (from dateparser~=1.1.0->gruut[cs,de,es,fr,it,nl,pt,ru,sv]==2.2.3->TTS) (2.8.2)\n",
            "Requirement already satisfied: tzlocal in /usr/local/lib/python3.7/dist-packages (from dateparser~=1.1.0->gruut[cs,de,es,fr,it,nl,pt,ru,sv]==2.2.3->TTS) (1.5.1)\n",
            "Requirement already satisfied: six in /usr/local/lib/python3.7/dist-packages (from jsonlines~=1.2.0->gruut[cs,de,es,fr,it,nl,pt,ru,sv]==2.2.3->TTS) (1.15.0)\n",
            "Requirement already satisfied: docopt>=0.6.2 in /usr/local/lib/python3.7/dist-packages (from num2words<1.0.0,>=0.5.10->gruut[cs,de,es,fr,it,nl,pt,ru,sv]==2.2.3->TTS) (0.6.2)\n",
            "Requirement already satisfied: packaging>=20.0 in /usr/local/lib/python3.7/dist-packages (from pooch>=1.0->librosa==0.8.0->TTS) (21.3)\n",
            "Requirement already satisfied: requests>=2.19.0 in /usr/local/lib/python3.7/dist-packages (from pooch>=1.0->librosa==0.8.0->TTS) (2.23.0)\n",
            "Requirement already satisfied: appdirs>=1.3.0 in /usr/local/lib/python3.7/dist-packages (from pooch>=1.0->librosa==0.8.0->TTS) (1.4.4)\n",
            "Requirement already satisfied: pyparsing!=3.0.5,>=2.0.2 in /usr/local/lib/python3.7/dist-packages (from packaging>=20.0->pooch>=1.0->librosa==0.8.0->TTS) (3.0.8)\n",
            "Requirement already satisfied: idna<3,>=2.5 in /usr/local/lib/python3.7/dist-packages (from requests>=2.19.0->pooch>=1.0->librosa==0.8.0->TTS) (2.10)\n",
            "Requirement already satisfied: certifi>=2017.4.17 in /usr/local/lib/python3.7/dist-packages (from requests>=2.19.0->pooch>=1.0->librosa==0.8.0->TTS) (2021.10.8)\n",
            "Requirement already satisfied: chardet<4,>=3.0.2 in /usr/local/lib/python3.7/dist-packages (from requests>=2.19.0->pooch>=1.0->librosa==0.8.0->TTS) (3.0.4)\n",
            "Requirement already satisfied: urllib3!=1.25.0,!=1.25.1,<1.26,>=1.21.1 in /usr/local/lib/python3.7/dist-packages (from requests>=2.19.0->pooch>=1.0->librosa==0.8.0->TTS) (1.24.3)\n",
            "Requirement already satisfied: threadpoolctl>=2.0.0 in /usr/local/lib/python3.7/dist-packages (from scikit-learn!=0.19.0,>=0.14.0->librosa==0.8.0->TTS) (3.1.0)\n",
            "Requirement already satisfied: cffi>=1.0 in /usr/local/lib/python3.7/dist-packages (from soundfile->TTS) (1.15.0)\n",
            "Requirement already satisfied: pycparser in /usr/local/lib/python3.7/dist-packages (from cffi>=1.0->soundfile->TTS) (2.21)\n",
            "Requirement already satisfied: typing-extensions in /usr/local/lib/python3.7/dist-packages (from torch>=1.7->TTS) (4.2.0)\n",
            "Requirement already satisfied: Jinja2<3.0,>=2.10.1 in /usr/local/lib/python3.7/dist-packages (from flask->TTS) (2.11.3)\n",
            "Requirement already satisfied: Werkzeug<2.0,>=0.15 in /usr/local/lib/python3.7/dist-packages (from flask->TTS) (1.0.1)\n",
            "Requirement already satisfied: click<8.0,>=5.1 in /usr/local/lib/python3.7/dist-packages (from flask->TTS) (7.1.2)\n",
            "Requirement already satisfied: itsdangerous<2.0,>=0.24 in /usr/local/lib/python3.7/dist-packages (from flask->TTS) (1.1.0)\n",
            "Requirement already satisfied: MarkupSafe>=0.23 in /usr/local/lib/python3.7/dist-packages (from Jinja2<3.0,>=2.10.1->flask->TTS) (2.0.1)\n",
            "Requirement already satisfied: zipp>=3.1.0 in /usr/local/lib/python3.7/dist-packages (from importlib-resources->gruut[cs,de,es,fr,it,nl,pt,ru,sv]==2.2.3->TTS) (3.8.0)\n",
            "Requirement already satisfied: kiwisolver>=1.0.1 in /usr/local/lib/python3.7/dist-packages (from matplotlib->TTS) (1.4.2)\n",
            "Requirement already satisfied: cycler>=0.10 in /usr/local/lib/python3.7/dist-packages (from matplotlib->TTS) (0.11.0)\n",
            "Requirement already satisfied: protobuf>=3.8.0 in /usr/local/lib/python3.7/dist-packages (from tensorboardX->TTS) (3.17.3)\n",
            "Building wheels for collected packages: TTS\n",
            "  Building wheel for TTS (PEP 517) ... \u001b[?25l\u001b[?25hdone\n",
            "  Created wheel for TTS: filename=TTS-0.6.2-cp37-cp37m-linux_x86_64.whl size=540097 sha256=3d88de16684ba415fc028a113fc9ecf4a3cac38c728cc47c9e7b9f05103c327f\n",
            "  Stored in directory: /root/.cache/pip/wheels/3b/4b/54/d0015407f83105443e5a1823d6e3606c305c0da4d07347f880\n",
            "Successfully built TTS\n",
            "Installing collected packages: numpy, llvmlite, numba, mecab-python3, TTS\n",
            "  Attempting uninstall: numpy\n",
            "    Found existing installation: numpy 1.21.5\n",
            "    Uninstalling numpy-1.21.5:\n",
            "      Successfully uninstalled numpy-1.21.5\n",
            "  Attempting uninstall: llvmlite\n",
            "    Found existing installation: llvmlite 0.38.0\n",
            "    Uninstalling llvmlite-0.38.0:\n",
            "      Successfully uninstalled llvmlite-0.38.0\n",
            "  Attempting uninstall: numba\n",
            "    Found existing installation: numba 0.55.1\n",
            "    Uninstalling numba-0.55.1:\n",
            "      Successfully uninstalled numba-0.55.1\n",
            "  Attempting uninstall: mecab-python3\n",
            "    Found existing installation: mecab-python3 1.0.5\n",
            "    Uninstalling mecab-python3-1.0.5:\n",
            "      Successfully uninstalled mecab-python3-1.0.5\n",
            "\u001b[31mERROR: pip's dependency resolver does not currently take into account all the packages that are installed. This behaviour is the source of the following dependency conflicts.\n",
            "tensorflow 2.8.0 requires tf-estimator-nightly==2.8.0.dev2021122109, which is not installed.\n",
            "tensorflow 2.8.0 requires numpy>=1.20, but you have numpy 1.19.5 which is incompatible.\n",
            "datascience 0.10.6 requires folium==0.2.1, but you have folium 0.8.3 which is incompatible.\n",
            "albumentations 0.1.12 requires imgaug<0.2.7,>=0.2.5, but you have imgaug 0.2.9 which is incompatible.\u001b[0m\n",
            "Successfully installed TTS-0.6.2 llvmlite-0.36.0 mecab-python3-1.0.3 numba-0.53.0 numpy-1.19.5\n"
          ]
        },
        {
          "output_type": "display_data",
          "data": {
            "application/vnd.colab-display-data+json": {
              "pip_warning": {
                "packages": [
                  "numpy"
                ]
              }
            }
          },
          "metadata": {}
        }
      ]
    },
    {
      "cell_type": "code",
      "execution_count": null,
      "metadata": {
        "id": "1T1GqgumN6fu"
      },
      "outputs": [],
      "source": [
        "# !git clone https://github.com/coqui-ai/TTS\n",
        "# !pip install -e .[all,dev,notebooks] "
      ]
    },
    {
      "cell_type": "code",
      "source": [
        "# !cp -r /content/TTS /content/drive/MyDrive"
      ],
      "metadata": {
        "id": "UuXEiNCRmiJZ"
      },
      "execution_count": null,
      "outputs": []
    },
    {
      "cell_type": "code",
      "source": [
        "!pip install -r /content/drive/MyDrive/TTS/requirements.txt"
      ],
      "metadata": {
        "colab": {
          "base_uri": "https://localhost:8080/"
        },
        "id": "FxL1ZRrYWL_d",
        "outputId": "658b6363-a3db-4115-a9de-5f05db2e572f"
      },
      "execution_count": null,
      "outputs": [
        {
          "output_type": "stream",
          "name": "stdout",
          "text": [
            "Requirement already satisfied: numpy==1.21.6 in /usr/local/lib/python3.7/dist-packages (from -r /content/drive/MyDrive/TTS/requirements.txt (line 2)) (1.21.6)\n",
            "Requirement already satisfied: cython==0.29.28 in /usr/local/lib/python3.7/dist-packages (from -r /content/drive/MyDrive/TTS/requirements.txt (line 3)) (0.29.28)\n",
            "Requirement already satisfied: scipy>=1.4.0 in /usr/local/lib/python3.7/dist-packages (from -r /content/drive/MyDrive/TTS/requirements.txt (line 4)) (1.4.1)\n",
            "Requirement already satisfied: torch>=1.7 in /usr/local/lib/python3.7/dist-packages (from -r /content/drive/MyDrive/TTS/requirements.txt (line 5)) (1.11.0+cu113)\n",
            "Requirement already satisfied: torchaudio in /usr/local/lib/python3.7/dist-packages (from -r /content/drive/MyDrive/TTS/requirements.txt (line 6)) (0.11.0+cu113)\n",
            "Requirement already satisfied: soundfile in /usr/local/lib/python3.7/dist-packages (from -r /content/drive/MyDrive/TTS/requirements.txt (line 7)) (0.10.3.post1)\n",
            "Collecting librosa==0.8.0\n",
            "  Downloading librosa-0.8.0.tar.gz (183 kB)\n",
            "\u001b[K     |████████████████████████████████| 183 kB 7.3 MB/s \n",
            "\u001b[?25hCollecting numba==0.55.1\n",
            "  Downloading numba-0.55.1-1-cp37-cp37m-manylinux2014_x86_64.manylinux_2_17_x86_64.whl (3.3 MB)\n",
            "\u001b[K     |████████████████████████████████| 3.3 MB 62.5 MB/s \n",
            "\u001b[?25hRequirement already satisfied: inflect in /usr/local/lib/python3.7/dist-packages (from -r /content/drive/MyDrive/TTS/requirements.txt (line 10)) (2.1.0)\n",
            "Requirement already satisfied: tqdm in /usr/local/lib/python3.7/dist-packages (from -r /content/drive/MyDrive/TTS/requirements.txt (line 11)) (4.64.0)\n",
            "Collecting anyascii\n",
            "  Downloading anyascii-0.3.1-py3-none-any.whl (287 kB)\n",
            "\u001b[K     |████████████████████████████████| 287 kB 63.9 MB/s \n",
            "\u001b[?25hRequirement already satisfied: pyyaml in /usr/local/lib/python3.7/dist-packages (from -r /content/drive/MyDrive/TTS/requirements.txt (line 13)) (3.13)\n",
            "Collecting fsspec>=2021.04.0\n",
            "  Downloading fsspec-2022.3.0-py3-none-any.whl (136 kB)\n",
            "\u001b[K     |████████████████████████████████| 136 kB 57.1 MB/s \n",
            "\u001b[?25hRequirement already satisfied: flask in /usr/local/lib/python3.7/dist-packages (from -r /content/drive/MyDrive/TTS/requirements.txt (line 16)) (1.1.4)\n",
            "Collecting pysbd\n",
            "  Downloading pysbd-0.3.4-py3-none-any.whl (71 kB)\n",
            "\u001b[K     |████████████████████████████████| 71 kB 8.3 MB/s \n",
            "\u001b[?25hCollecting umap-learn==0.5.1\n",
            "  Downloading umap-learn-0.5.1.tar.gz (80 kB)\n",
            "\u001b[K     |████████████████████████████████| 80 kB 9.5 MB/s \n",
            "\u001b[?25hRequirement already satisfied: pandas in /usr/local/lib/python3.7/dist-packages (from -r /content/drive/MyDrive/TTS/requirements.txt (line 21)) (1.3.5)\n",
            "Requirement already satisfied: matplotlib in /usr/local/lib/python3.7/dist-packages (from -r /content/drive/MyDrive/TTS/requirements.txt (line 23)) (3.2.2)\n",
            "Collecting tensorboardX\n",
            "  Downloading tensorboardX-2.5-py2.py3-none-any.whl (125 kB)\n",
            "\u001b[K     |████████████████████████████████| 125 kB 51.9 MB/s \n",
            "\u001b[?25hCollecting pyworld==0.2.10\n",
            "  Downloading pyworld-0.2.10.tar.gz (73 kB)\n",
            "\u001b[K     |████████████████████████████████| 73 kB 3.2 MB/s \n",
            "\u001b[?25hCollecting trainer\n",
            "  Downloading trainer-0.0.11-py3-none-any.whl (40 kB)\n",
            "\u001b[K     |████████████████████████████████| 40 kB 5.5 MB/s \n",
            "\u001b[?25hCollecting coqpit>=0.0.16\n",
            "  Downloading coqpit-0.0.16-py3-none-any.whl (13 kB)\n",
            "Requirement already satisfied: jieba in /usr/local/lib/python3.7/dist-packages (from -r /content/drive/MyDrive/TTS/requirements.txt (line 31)) (0.42.1)\n",
            "Collecting pypinyin\n",
            "  Downloading pypinyin-0.46.0-py2.py3-none-any.whl (1.3 MB)\n",
            "\u001b[K     |████████████████████████████████| 1.3 MB 52.7 MB/s \n",
            "\u001b[?25hCollecting mecab-python3==1.0.5\n",
            "  Downloading mecab_python3-1.0.5-cp37-cp37m-manylinux_2_17_x86_64.manylinux2014_x86_64.whl (574 kB)\n",
            "\u001b[K     |████████████████████████████████| 574 kB 67.3 MB/s \n",
            "\u001b[?25hCollecting unidic-lite==1.0.8\n",
            "  Downloading unidic-lite-1.0.8.tar.gz (47.4 MB)\n",
            "\u001b[K     |████████████████████████████████| 47.4 MB 1.2 MB/s \n",
            "\u001b[?25hCollecting gruut[cs,de,es,fr,it,nl,pt,ru,sv]==2.2.3\n",
            "  Downloading gruut-2.2.3.tar.gz (73 kB)\n",
            "\u001b[K     |████████████████████████████████| 73 kB 2.2 MB/s \n",
            "\u001b[?25hRequirement already satisfied: audioread>=2.0.0 in /usr/local/lib/python3.7/dist-packages (from librosa==0.8.0->-r /content/drive/MyDrive/TTS/requirements.txt (line 8)) (2.1.9)\n",
            "Requirement already satisfied: scikit-learn!=0.19.0,>=0.14.0 in /usr/local/lib/python3.7/dist-packages (from librosa==0.8.0->-r /content/drive/MyDrive/TTS/requirements.txt (line 8)) (1.0.2)\n",
            "Requirement already satisfied: joblib>=0.14 in /usr/local/lib/python3.7/dist-packages (from librosa==0.8.0->-r /content/drive/MyDrive/TTS/requirements.txt (line 8)) (1.1.0)\n",
            "Requirement already satisfied: decorator>=3.0.0 in /usr/local/lib/python3.7/dist-packages (from librosa==0.8.0->-r /content/drive/MyDrive/TTS/requirements.txt (line 8)) (4.4.2)\n",
            "Requirement already satisfied: resampy>=0.2.2 in /usr/local/lib/python3.7/dist-packages (from librosa==0.8.0->-r /content/drive/MyDrive/TTS/requirements.txt (line 8)) (0.2.2)\n",
            "Requirement already satisfied: pooch>=1.0 in /usr/local/lib/python3.7/dist-packages (from librosa==0.8.0->-r /content/drive/MyDrive/TTS/requirements.txt (line 8)) (1.6.0)\n",
            "Collecting llvmlite<0.39,>=0.38.0rc1\n",
            "  Downloading llvmlite-0.38.0-cp37-cp37m-manylinux_2_17_x86_64.manylinux2014_x86_64.whl (34.5 MB)\n",
            "\u001b[K     |████████████████████████████████| 34.5 MB 10.2 MB/s \n",
            "\u001b[?25hRequirement already satisfied: setuptools in /usr/local/lib/python3.7/dist-packages (from numba==0.55.1->-r /content/drive/MyDrive/TTS/requirements.txt (line 9)) (57.4.0)\n",
            "Collecting pynndescent>=0.5\n",
            "  Downloading pynndescent-0.5.7.tar.gz (1.1 MB)\n",
            "\u001b[K     |████████████████████████████████| 1.1 MB 49.2 MB/s \n",
            "\u001b[?25hRequirement already satisfied: Babel<3.0.0,>=2.8.0 in /usr/local/lib/python3.7/dist-packages (from gruut[cs,de,es,fr,it,nl,pt,ru,sv]==2.2.3->-r /content/drive/MyDrive/TTS/requirements.txt (line 37)) (2.10.1)\n",
            "Collecting dateparser~=1.1.0\n",
            "  Downloading dateparser-1.1.1-py2.py3-none-any.whl (288 kB)\n",
            "\u001b[K     |████████████████████████████████| 288 kB 54.4 MB/s \n",
            "\u001b[?25hCollecting gruut-ipa<1.0,>=0.12.0\n",
            "  Downloading gruut-ipa-0.13.0.tar.gz (101 kB)\n",
            "\u001b[K     |████████████████████████████████| 101 kB 11.4 MB/s \n",
            "\u001b[?25hCollecting gruut_lang_en~=2.0.0\n",
            "  Downloading gruut_lang_en-2.0.0.tar.gz (15.2 MB)\n",
            "\u001b[K     |████████████████████████████████| 15.2 MB 33.0 MB/s \n",
            "\u001b[?25hCollecting jsonlines~=1.2.0\n",
            "  Downloading jsonlines-1.2.0-py2.py3-none-any.whl (7.6 kB)\n",
            "Requirement already satisfied: networkx<3.0.0,>=2.5.0 in /usr/local/lib/python3.7/dist-packages (from gruut[cs,de,es,fr,it,nl,pt,ru,sv]==2.2.3->-r /content/drive/MyDrive/TTS/requirements.txt (line 37)) (2.6.3)\n",
            "Collecting num2words<1.0.0,>=0.5.10\n",
            "  Downloading num2words-0.5.10-py3-none-any.whl (101 kB)\n",
            "\u001b[K     |████████████████████████████████| 101 kB 10.7 MB/s \n",
            "\u001b[?25hCollecting python-crfsuite~=0.9.7\n",
            "  Downloading python_crfsuite-0.9.8-cp37-cp37m-manylinux_2_17_x86_64.manylinux2014_x86_64.whl (965 kB)\n",
            "\u001b[K     |████████████████████████████████| 965 kB 37.1 MB/s \n",
            "\u001b[?25hRequirement already satisfied: importlib_resources in /usr/local/lib/python3.7/dist-packages (from gruut[cs,de,es,fr,it,nl,pt,ru,sv]==2.2.3->-r /content/drive/MyDrive/TTS/requirements.txt (line 37)) (5.7.1)\n",
            "Collecting gruut_lang_es~=2.0.0\n",
            "  Downloading gruut_lang_es-2.0.0.tar.gz (31.4 MB)\n",
            "\u001b[K     |████████████████████████████████| 31.4 MB 1.5 MB/s \n",
            "\u001b[?25hCollecting gruut_lang_it~=2.0.0\n",
            "  Downloading gruut_lang_it-2.0.0.tar.gz (2.9 MB)\n",
            "\u001b[K     |████████████████████████████████| 2.9 MB 40.9 MB/s \n",
            "\u001b[?25hCollecting gruut_lang_sv~=2.0.0\n",
            "  Downloading gruut_lang_sv-2.0.0.tar.gz (2.8 MB)\n",
            "\u001b[K     |████████████████████████████████| 2.8 MB 36.7 MB/s \n",
            "\u001b[?25hCollecting gruut_lang_fr~=2.0.0\n",
            "  Downloading gruut_lang_fr-2.0.2.tar.gz (10.9 MB)\n",
            "\u001b[K     |████████████████████████████████| 10.9 MB 33.8 MB/s \n",
            "\u001b[?25hCollecting gruut_lang_ru~=2.0.0\n",
            "  Downloading gruut_lang_ru-2.0.0.tar.gz (35.0 MB)\n",
            "\u001b[K     |████████████████████████████████| 35.0 MB 1.4 MB/s \n",
            "\u001b[?25hCollecting gruut_lang_cs~=2.0.0\n",
            "  Downloading gruut_lang_cs-2.0.0.tar.gz (7.0 MB)\n",
            "\u001b[K     |████████████████████████████████| 7.0 MB 26.2 MB/s \n",
            "\u001b[?25hCollecting gruut_lang_de~=2.0.0\n",
            "  Downloading gruut_lang_de-2.0.0.tar.gz (18.1 MB)\n",
            "\u001b[K     |████████████████████████████████| 18.1 MB 24.9 MB/s \n",
            "\u001b[?25hCollecting gruut_lang_nl~=2.0.0\n",
            "  Downloading gruut_lang_nl-2.0.2.tar.gz (8.6 MB)\n",
            "\u001b[K     |████████████████████████████████| 8.6 MB 20.7 MB/s \n",
            "\u001b[?25hCollecting gruut_lang_pt~=2.0.0\n",
            "  Downloading gruut_lang_pt-2.0.0.tar.gz (5.0 MB)\n",
            "\u001b[K     |████████████████████████████████| 5.0 MB 48.1 MB/s \n",
            "\u001b[?25hRequirement already satisfied: typing-extensions in /usr/local/lib/python3.7/dist-packages (from torch>=1.7->-r /content/drive/MyDrive/TTS/requirements.txt (line 5)) (4.2.0)\n",
            "Requirement already satisfied: cffi>=1.0 in /usr/local/lib/python3.7/dist-packages (from soundfile->-r /content/drive/MyDrive/TTS/requirements.txt (line 7)) (1.15.0)\n",
            "Requirement already satisfied: pytz>=2015.7 in /usr/local/lib/python3.7/dist-packages (from Babel<3.0.0,>=2.8.0->gruut[cs,de,es,fr,it,nl,pt,ru,sv]==2.2.3->-r /content/drive/MyDrive/TTS/requirements.txt (line 37)) (2022.1)\n",
            "Requirement already satisfied: pycparser in /usr/local/lib/python3.7/dist-packages (from cffi>=1.0->soundfile->-r /content/drive/MyDrive/TTS/requirements.txt (line 7)) (2.21)\n",
            "Requirement already satisfied: python-dateutil in /usr/local/lib/python3.7/dist-packages (from dateparser~=1.1.0->gruut[cs,de,es,fr,it,nl,pt,ru,sv]==2.2.3->-r /content/drive/MyDrive/TTS/requirements.txt (line 37)) (2.8.2)\n",
            "Requirement already satisfied: regex!=2019.02.19,!=2021.8.27,<2022.3.15 in /usr/local/lib/python3.7/dist-packages (from dateparser~=1.1.0->gruut[cs,de,es,fr,it,nl,pt,ru,sv]==2.2.3->-r /content/drive/MyDrive/TTS/requirements.txt (line 37)) (2019.12.20)\n",
            "Requirement already satisfied: tzlocal in /usr/local/lib/python3.7/dist-packages (from dateparser~=1.1.0->gruut[cs,de,es,fr,it,nl,pt,ru,sv]==2.2.3->-r /content/drive/MyDrive/TTS/requirements.txt (line 37)) (1.5.1)\n",
            "Requirement already satisfied: six in /usr/local/lib/python3.7/dist-packages (from jsonlines~=1.2.0->gruut[cs,de,es,fr,it,nl,pt,ru,sv]==2.2.3->-r /content/drive/MyDrive/TTS/requirements.txt (line 37)) (1.15.0)\n",
            "Requirement already satisfied: docopt>=0.6.2 in /usr/local/lib/python3.7/dist-packages (from num2words<1.0.0,>=0.5.10->gruut[cs,de,es,fr,it,nl,pt,ru,sv]==2.2.3->-r /content/drive/MyDrive/TTS/requirements.txt (line 37)) (0.6.2)\n",
            "Requirement already satisfied: requests>=2.19.0 in /usr/local/lib/python3.7/dist-packages (from pooch>=1.0->librosa==0.8.0->-r /content/drive/MyDrive/TTS/requirements.txt (line 8)) (2.23.0)\n",
            "Requirement already satisfied: appdirs>=1.3.0 in /usr/local/lib/python3.7/dist-packages (from pooch>=1.0->librosa==0.8.0->-r /content/drive/MyDrive/TTS/requirements.txt (line 8)) (1.4.4)\n",
            "Requirement already satisfied: packaging>=20.0 in /usr/local/lib/python3.7/dist-packages (from pooch>=1.0->librosa==0.8.0->-r /content/drive/MyDrive/TTS/requirements.txt (line 8)) (21.3)\n",
            "Requirement already satisfied: pyparsing!=3.0.5,>=2.0.2 in /usr/local/lib/python3.7/dist-packages (from packaging>=20.0->pooch>=1.0->librosa==0.8.0->-r /content/drive/MyDrive/TTS/requirements.txt (line 8)) (3.0.8)\n",
            "Requirement already satisfied: urllib3!=1.25.0,!=1.25.1,<1.26,>=1.21.1 in /usr/local/lib/python3.7/dist-packages (from requests>=2.19.0->pooch>=1.0->librosa==0.8.0->-r /content/drive/MyDrive/TTS/requirements.txt (line 8)) (1.24.3)\n",
            "Requirement already satisfied: idna<3,>=2.5 in /usr/local/lib/python3.7/dist-packages (from requests>=2.19.0->pooch>=1.0->librosa==0.8.0->-r /content/drive/MyDrive/TTS/requirements.txt (line 8)) (2.10)\n",
            "Requirement already satisfied: certifi>=2017.4.17 in /usr/local/lib/python3.7/dist-packages (from requests>=2.19.0->pooch>=1.0->librosa==0.8.0->-r /content/drive/MyDrive/TTS/requirements.txt (line 8)) (2021.10.8)\n",
            "Requirement already satisfied: chardet<4,>=3.0.2 in /usr/local/lib/python3.7/dist-packages (from requests>=2.19.0->pooch>=1.0->librosa==0.8.0->-r /content/drive/MyDrive/TTS/requirements.txt (line 8)) (3.0.4)\n",
            "Requirement already satisfied: threadpoolctl>=2.0.0 in /usr/local/lib/python3.7/dist-packages (from scikit-learn!=0.19.0,>=0.14.0->librosa==0.8.0->-r /content/drive/MyDrive/TTS/requirements.txt (line 8)) (3.1.0)\n",
            "Requirement already satisfied: click<8.0,>=5.1 in /usr/local/lib/python3.7/dist-packages (from flask->-r /content/drive/MyDrive/TTS/requirements.txt (line 16)) (7.1.2)\n",
            "Requirement already satisfied: itsdangerous<2.0,>=0.24 in /usr/local/lib/python3.7/dist-packages (from flask->-r /content/drive/MyDrive/TTS/requirements.txt (line 16)) (1.1.0)\n",
            "Requirement already satisfied: Werkzeug<2.0,>=0.15 in /usr/local/lib/python3.7/dist-packages (from flask->-r /content/drive/MyDrive/TTS/requirements.txt (line 16)) (1.0.1)\n",
            "Requirement already satisfied: Jinja2<3.0,>=2.10.1 in /usr/local/lib/python3.7/dist-packages (from flask->-r /content/drive/MyDrive/TTS/requirements.txt (line 16)) (2.11.3)\n",
            "Requirement already satisfied: MarkupSafe>=0.23 in /usr/local/lib/python3.7/dist-packages (from Jinja2<3.0,>=2.10.1->flask->-r /content/drive/MyDrive/TTS/requirements.txt (line 16)) (2.0.1)\n",
            "Requirement already satisfied: kiwisolver>=1.0.1 in /usr/local/lib/python3.7/dist-packages (from matplotlib->-r /content/drive/MyDrive/TTS/requirements.txt (line 23)) (1.4.2)\n",
            "Requirement already satisfied: cycler>=0.10 in /usr/local/lib/python3.7/dist-packages (from matplotlib->-r /content/drive/MyDrive/TTS/requirements.txt (line 23)) (0.11.0)\n",
            "Requirement already satisfied: protobuf>=3.8.0 in /usr/local/lib/python3.7/dist-packages (from tensorboardX->-r /content/drive/MyDrive/TTS/requirements.txt (line 24)) (3.17.3)\n",
            "Requirement already satisfied: zipp>=3.1.0 in /usr/local/lib/python3.7/dist-packages (from importlib_resources->gruut[cs,de,es,fr,it,nl,pt,ru,sv]==2.2.3->-r /content/drive/MyDrive/TTS/requirements.txt (line 37)) (3.8.0)\n",
            "Building wheels for collected packages: librosa, umap-learn, pyworld, unidic-lite, gruut, gruut-ipa, gruut-lang-cs, gruut-lang-de, gruut-lang-en, gruut-lang-es, gruut-lang-fr, gruut-lang-it, gruut-lang-nl, gruut-lang-pt, gruut-lang-ru, gruut-lang-sv, pynndescent\n",
            "  Building wheel for librosa (setup.py) ... \u001b[?25l\u001b[?25hdone\n",
            "  Created wheel for librosa: filename=librosa-0.8.0-py3-none-any.whl size=201396 sha256=8e42d52cb2bf1626493a4208c3b4ecd7766b09295910e66b4454a589f84a766f\n",
            "  Stored in directory: /root/.cache/pip/wheels/de/1e/aa/d91797ae7e1ce11853ee100bee9d1781ae9d750e7458c95afb\n",
            "  Building wheel for umap-learn (setup.py) ... \u001b[?25l\u001b[?25hdone\n",
            "  Created wheel for umap-learn: filename=umap_learn-0.5.1-py3-none-any.whl size=76565 sha256=7443a6f0b7c0cb81010bd4fccdec693a8723b493a6f29c64e86ee0f45a6e9c47\n",
            "  Stored in directory: /root/.cache/pip/wheels/01/e7/bb/347dc0e510803d7116a13d592b10cc68262da56a8eec4dd72f\n",
            "  Building wheel for pyworld (setup.py) ... \u001b[?25l\u001b[?25hdone\n",
            "  Created wheel for pyworld: filename=pyworld-0.2.10-cp37-cp37m-linux_x86_64.whl size=607676 sha256=fe9bec77e1b5666f0a90c366fb228506db0c32c539dae16a86ce26a5c68854da\n",
            "  Stored in directory: /root/.cache/pip/wheels/bd/6b/a1/ef59ea6908d1aa757f54df9c9143c7e1a22686ab3bf56742f5\n",
            "  Building wheel for unidic-lite (setup.py) ... \u001b[?25l\u001b[?25hdone\n",
            "  Created wheel for unidic-lite: filename=unidic_lite-1.0.8-py3-none-any.whl size=47658836 sha256=fbead76ccbd486be9061f9c1846579f47067b972822743df340878c04239b7fa\n",
            "  Stored in directory: /root/.cache/pip/wheels/de/69/b1/112140b599f2b13f609d485a99e357ba68df194d2079c5b1a2\n",
            "  Building wheel for gruut (setup.py) ... \u001b[?25l\u001b[?25hdone\n",
            "  Created wheel for gruut: filename=gruut-2.2.3-py3-none-any.whl size=75820 sha256=4600770877aa152497ecb667b051945773eefcd377dec9009f970280db02c688\n",
            "  Stored in directory: /root/.cache/pip/wheels/67/6a/ef/c07b4563108f071b917e6f9cda1052da696906a0ed2357dcfb\n",
            "  Building wheel for gruut-ipa (setup.py) ... \u001b[?25l\u001b[?25hdone\n",
            "  Created wheel for gruut-ipa: filename=gruut_ipa-0.13.0-py3-none-any.whl size=104895 sha256=2a8d725061e38b7b36625717a7b29655d570e7ad0de2f95472c04cea555e346f\n",
            "  Stored in directory: /root/.cache/pip/wheels/22/71/a1/5c393a68f798dfaea6c4f09e9a13b52cfedd4765db6a18400d\n",
            "  Building wheel for gruut-lang-cs (setup.py) ... \u001b[?25l\u001b[?25hdone\n",
            "  Created wheel for gruut-lang-cs: filename=gruut_lang_cs-2.0.0-py3-none-any.whl size=7046389 sha256=76052f9a247fa7b63baa2c61c0fc7991a28ef065f0acd654a640a93cbcf31749\n",
            "  Stored in directory: /root/.cache/pip/wheels/07/6b/75/354899a9146b15b09c58c9d41ba734217ce6fc3564b23429da\n",
            "  Building wheel for gruut-lang-de (setup.py) ... \u001b[?25l\u001b[?25hdone\n",
            "  Created wheel for gruut-lang-de: filename=gruut_lang_de-2.0.0-py3-none-any.whl size=18498200 sha256=37eb3dc5ab598bf3c60cca673cce1cdcdef8cd2ddf6fccedd97fdc785f4f000f\n",
            "  Stored in directory: /root/.cache/pip/wheels/96/e2/2f/fda506cfd22e4bd7435fb38ecf7760f9be1f2d10ab69933b4c\n",
            "  Building wheel for gruut-lang-en (setup.py) ... \u001b[?25l\u001b[?25hdone\n",
            "  Created wheel for gruut-lang-en: filename=gruut_lang_en-2.0.0-py3-none-any.whl size=15297197 sha256=a7eb1746386f759da127f7985fe95cde46008dcdb667f331173e05f440fa01e5\n",
            "  Stored in directory: /root/.cache/pip/wheels/b1/82/a1/88bb90a6ee9896acfa37d9c2bc3dd56dee0b6c91ae13b0f0bf\n",
            "  Building wheel for gruut-lang-es (setup.py) ... \u001b[?25l\u001b[?25hdone\n",
            "  Created wheel for gruut-lang-es: filename=gruut_lang_es-2.0.0-py3-none-any.whl size=32173815 sha256=b6f72492c439b8e04e3922d60aa83565a4735e5fc54d341f3ca9b0c13ab86039\n",
            "  Stored in directory: /root/.cache/pip/wheels/6f/0c/5d/a5dacfeeb7482db19f954fe99e46879629711efb0e5263f1d1\n",
            "  Building wheel for gruut-lang-fr (setup.py) ... \u001b[?25l\u001b[?25hdone\n",
            "  Created wheel for gruut-lang-fr: filename=gruut_lang_fr-2.0.2-py3-none-any.whl size=10968789 sha256=acd6f7e1d62b178c4ea0413be00b38d0688b6fd92ecc869d2032a55971eb443c\n",
            "  Stored in directory: /root/.cache/pip/wheels/d7/3e/4a/5f85990f912315dcfbf58b231d3c0880d02bcbf9e139e6b7ae\n",
            "  Building wheel for gruut-lang-it (setup.py) ... \u001b[?25l\u001b[?25hdone\n",
            "  Created wheel for gruut-lang-it: filename=gruut_lang_it-2.0.0-py3-none-any.whl size=2961848 sha256=f05df940bab152f527f040e0f789934fb44b8126cc00ea5bdba1a22edb648a2b\n",
            "  Stored in directory: /root/.cache/pip/wheels/b3/4f/83/d46fec44ed3ea7cea8941549972daa30dd55213110b34aa168\n",
            "  Building wheel for gruut-lang-nl (setup.py) ... \u001b[?25l\u001b[?25hdone\n",
            "  Created wheel for gruut-lang-nl: filename=gruut_lang_nl-2.0.2-py3-none-any.whl size=8589106 sha256=66eab6f5eaed22b950d5f17484ebe1514ea3117792c97d2583bdc67d0158c5e0\n",
            "  Stored in directory: /root/.cache/pip/wheels/38/eb/6e/b4032f17268a19659e1f6682034d74a513f44a1de0877d94d0\n",
            "  Building wheel for gruut-lang-pt (setup.py) ... \u001b[?25l\u001b[?25hdone\n",
            "  Created wheel for gruut-lang-pt: filename=gruut_lang_pt-2.0.0-py3-none-any.whl size=5033212 sha256=3fe6d2e6dc056aa1eb540406d68330221974d4af74fd7d79af6ca1b1bb923fc0\n",
            "  Stored in directory: /root/.cache/pip/wheels/70/6f/a7/65977a42f8bcb4b86ab078622c0b5e0a6c51f16717386435a7\n",
            "  Building wheel for gruut-lang-ru (setup.py) ... \u001b[?25l\u001b[?25hdone\n",
            "  Created wheel for gruut-lang-ru: filename=gruut_lang_ru-2.0.0-py3-none-any.whl size=35301045 sha256=9bb9e36a2bb5ce4fdbfc3e151bbe529ddb10794c848c2c8402f01453ffcc0602\n",
            "  Stored in directory: /root/.cache/pip/wheels/89/a2/f7/2c70e405a17ffd53a2773b6a10c8376e0bda1b615ddaa1a40b\n",
            "  Building wheel for gruut-lang-sv (setup.py) ... \u001b[?25l\u001b[?25hdone\n",
            "  Created wheel for gruut-lang-sv: filename=gruut_lang_sv-2.0.0-py3-none-any.whl size=2851739 sha256=bb6d52ce7aeecd6b9c861a9f39fb515d21e421096415d89463dc0b7dddcb6909\n",
            "  Stored in directory: /root/.cache/pip/wheels/9b/97/85/80f8b114b45c1642b535ac2c4d9dd9f0c94529916ac20b6d24\n",
            "  Building wheel for pynndescent (setup.py) ... \u001b[?25l\u001b[?25hdone\n",
            "  Created wheel for pynndescent: filename=pynndescent-0.5.7-py3-none-any.whl size=54286 sha256=52325641e55129df43246ca2c03872b55ded84b0dc5a49f174fcba1e1282c74c\n",
            "  Stored in directory: /root/.cache/pip/wheels/7f/2a/f8/7bd5dcec71bd5c669f6f574db3113513696b98f3f9b51f496c\n",
            "Successfully built librosa umap-learn pyworld unidic-lite gruut gruut-ipa gruut-lang-cs gruut-lang-de gruut-lang-en gruut-lang-es gruut-lang-fr gruut-lang-it gruut-lang-nl gruut-lang-pt gruut-lang-ru gruut-lang-sv pynndescent\n",
            "Installing collected packages: llvmlite, python-crfsuite, numba, num2words, jsonlines, gruut-lang-en, gruut-ipa, dateparser, tensorboardX, pynndescent, gruut-lang-sv, gruut-lang-ru, gruut-lang-pt, gruut-lang-nl, gruut-lang-it, gruut-lang-fr, gruut-lang-es, gruut-lang-de, gruut-lang-cs, gruut, fsspec, coqpit, unidic-lite, umap-learn, trainer, pyworld, pysbd, pypinyin, mecab-python3, librosa, anyascii\n",
            "  Attempting uninstall: llvmlite\n",
            "    Found existing installation: llvmlite 0.34.0\n",
            "    Uninstalling llvmlite-0.34.0:\n",
            "      Successfully uninstalled llvmlite-0.34.0\n",
            "  Attempting uninstall: numba\n",
            "    Found existing installation: numba 0.51.2\n",
            "    Uninstalling numba-0.51.2:\n",
            "      Successfully uninstalled numba-0.51.2\n",
            "  Attempting uninstall: librosa\n",
            "    Found existing installation: librosa 0.8.1\n",
            "    Uninstalling librosa-0.8.1:\n",
            "      Successfully uninstalled librosa-0.8.1\n",
            "Successfully installed anyascii-0.3.1 coqpit-0.0.16 dateparser-1.1.1 fsspec-2022.3.0 gruut-2.2.3 gruut-ipa-0.13.0 gruut-lang-cs-2.0.0 gruut-lang-de-2.0.0 gruut-lang-en-2.0.0 gruut-lang-es-2.0.0 gruut-lang-fr-2.0.2 gruut-lang-it-2.0.0 gruut-lang-nl-2.0.2 gruut-lang-pt-2.0.0 gruut-lang-ru-2.0.0 gruut-lang-sv-2.0.0 jsonlines-1.2.0 librosa-0.8.0 llvmlite-0.38.0 mecab-python3-1.0.5 num2words-0.5.10 numba-0.55.1 pynndescent-0.5.7 pypinyin-0.46.0 pysbd-0.3.4 python-crfsuite-0.9.8 pyworld-0.2.10 tensorboardX-2.5 trainer-0.0.11 umap-learn-0.5.1 unidic-lite-1.0.8\n"
          ]
        }
      ]
    },
    {
      "cell_type": "code",
      "source": [
        "!pip install numpy==1.21.5\n",
        "!pip install pandas"
      ],
      "metadata": {
        "id": "IvAhdDvJV54w",
        "colab": {
          "base_uri": "https://localhost:8080/",
          "height": 435
        },
        "outputId": "b1a997c9-6472-4f39-c16c-185a83327d0b"
      },
      "execution_count": null,
      "outputs": [
        {
          "output_type": "stream",
          "name": "stdout",
          "text": [
            "Collecting numpy==1.21.5\n",
            "  Using cached numpy-1.21.5-cp37-cp37m-manylinux_2_12_x86_64.manylinux2010_x86_64.whl (15.7 MB)\n",
            "Installing collected packages: numpy\n",
            "  Attempting uninstall: numpy\n",
            "    Found existing installation: numpy 1.19.5\n",
            "    Uninstalling numpy-1.19.5:\n",
            "      Successfully uninstalled numpy-1.19.5\n",
            "\u001b[31mERROR: pip's dependency resolver does not currently take into account all the packages that are installed. This behaviour is the source of the following dependency conflicts.\n",
            "tensorflow 2.8.0 requires tf-estimator-nightly==2.8.0.dev2021122109, which is not installed.\n",
            "tts 0.6.2 requires numpy==1.19.5, but you have numpy 1.21.5 which is incompatible.\n",
            "datascience 0.10.6 requires folium==0.2.1, but you have folium 0.8.3 which is incompatible.\n",
            "albumentations 0.1.12 requires imgaug<0.2.7,>=0.2.5, but you have imgaug 0.2.9 which is incompatible.\u001b[0m\n",
            "Successfully installed numpy-1.21.5\n"
          ]
        },
        {
          "output_type": "display_data",
          "data": {
            "application/vnd.colab-display-data+json": {
              "pip_warning": {
                "packages": [
                  "numpy"
                ]
              }
            }
          },
          "metadata": {}
        },
        {
          "output_type": "stream",
          "name": "stdout",
          "text": [
            "Requirement already satisfied: pandas in /usr/local/lib/python3.7/dist-packages (1.3.5)\n",
            "Requirement already satisfied: python-dateutil>=2.7.3 in /usr/local/lib/python3.7/dist-packages (from pandas) (2.8.2)\n",
            "Requirement already satisfied: pytz>=2017.3 in /usr/local/lib/python3.7/dist-packages (from pandas) (2022.1)\n",
            "Requirement already satisfied: numpy>=1.17.3 in /usr/local/lib/python3.7/dist-packages (from pandas) (1.21.5)\n",
            "Requirement already satisfied: six>=1.5 in /usr/local/lib/python3.7/dist-packages (from python-dateutil>=2.7.3->pandas) (1.15.0)\n"
          ]
        }
      ]
    },
    {
      "cell_type": "code",
      "source": [
        "#!wget https://data.keithito.com/data/speech/LJSpeech-1.1.tar.bz2"
      ],
      "metadata": {
        "id": "u6teGgITp74m",
        "colab": {
          "base_uri": "https://localhost:8080/"
        },
        "outputId": "47dceb70-5aa1-4427-b83d-5377c2de4dcc"
      },
      "execution_count": null,
      "outputs": [
        {
          "output_type": "stream",
          "name": "stdout",
          "text": [
            "--2022-05-14 19:08:32--  https://data.keithito.com/data/speech/LJSpeech-1.1.tar.bz2\n",
            "Resolving data.keithito.com (data.keithito.com)... 174.138.79.61\n",
            "Connecting to data.keithito.com (data.keithito.com)|174.138.79.61|:443... connected.\n",
            "HTTP request sent, awaiting response... 200 OK\n",
            "Length: 2748572632 (2.6G) [application/octet-stream]\n",
            "Saving to: ‘LJSpeech-1.1.tar.bz2’\n",
            "\n",
            "LJSpeech-1.1.tar.bz 100%[===================>]   2.56G  15.7MB/s    in 3m 2s   \n",
            "\n",
            "2022-05-14 19:11:35 (14.4 MB/s) - ‘LJSpeech-1.1.tar.bz2’ saved [2748572632/2748572632]\n",
            "\n"
          ]
        }
      ]
    },
    {
      "cell_type": "code",
      "source": [
        "#!tar -xf /content/LJSpeech-1.1.tar.bz2"
      ],
      "metadata": {
        "id": "Ozwlzij6-Zrm"
      },
      "execution_count": null,
      "outputs": []
    },
    {
      "cell_type": "code",
      "source": [
        "#!cp -r /content/drive/MyDrive/TTS/TTS/LJSpeech-1.1 /content/drive/MyDrive/TTS"
      ],
      "metadata": {
        "id": "yaKrLzgkYfNg"
      },
      "execution_count": null,
      "outputs": []
    },
    {
      "cell_type": "code",
      "source": [
        "!CUDA_VISIBLE_DEVICES=\"0\" python /content/drive/MyDrive/TTS/train_tacotron_ddc.py\n",
        "# /content/TTS/recipes/ljspeech/tacotron2-DDC/train_tacotron_ddc.py"
      ],
      "metadata": {
        "id": "8EU7rNk7Xf3g"
      },
      "execution_count": null,
      "outputs": []
    },
    {
      "cell_type": "code",
      "source": [
        "!pip install TTS  ##To use tts command line \n",
        "!pip install numpy==1.21.5 ## when we install TTS library, Numpy and panda would update in incompatible version \n",
        "!pip install pandas\n",
        "\n",
        "!tts --text \"3 epochs yay\" \\\n",
        "      --model_path \"/content/drive/MyDrive/TTS/recipes/ljspeech/tacotron2-DDC/run-May-14-2022_09+02PM-0000000/best_model_6090.pth\" \\\n",
        "      --config_path \"/content/drive/MyDrive/TTS/recipes/ljspeech/tacotron2-DDC/run-May-14-2022_09+02PM-0000000/config.json\" \\\n",
        "      --out_path \"/content/drive/MyDrive/output/model2.wav\""
      ],
      "metadata": {
        "id": "JD8JEdQ90cDm",
        "colab": {
          "base_uri": "https://localhost:8080/"
        },
        "outputId": "b9a9f873-8fef-4279-a1a6-7c3e3f4ccd6d"
      },
      "execution_count": null,
      "outputs": [
        {
          "output_type": "stream",
          "name": "stdout",
          "text": [
            " > Using model: tacotron2\n",
            " > Setting up Audio Processor...\n",
            " | > sample_rate:22050\n",
            " | > resample:False\n",
            " | > num_mels:80\n",
            " | > log_func:np.log\n",
            " | > min_level_db:-100\n",
            " | > frame_shift_ms:None\n",
            " | > frame_length_ms:None\n",
            " | > ref_level_db:20\n",
            " | > fft_size:1024\n",
            " | > power:1.5\n",
            " | > preemphasis:0.0\n",
            " | > griffin_lim_iters:60\n",
            " | > signal_norm:False\n",
            " | > symmetric_norm:True\n",
            " | > mel_fmin:0\n",
            " | > mel_fmax:8000.0\n",
            " | > pitch_fmin:0.0\n",
            " | > pitch_fmax:640.0\n",
            " | > spec_gain:1.0\n",
            " | > stft_pad_mode:reflect\n",
            " | > max_norm:4.0\n",
            " | > clip_norm:True\n",
            " | > do_trim_silence:True\n",
            " | > trim_db:60\n",
            " | > do_sound_norm:False\n",
            " | > do_amp_to_db_linear:True\n",
            " | > do_amp_to_db_mel:True\n",
            " | > do_rms_norm:False\n",
            " | > db_level:None\n",
            " | > stats_path:None\n",
            " | > base:2.718281828459045\n",
            " | > hop_length:256\n",
            " | > win_length:1024\n",
            " > Model's reduction rate `r` is set to: 6\n",
            " > Using Griffin-Lim as no vocoder model defined\n",
            " > Text: 3 epochs yay\n",
            " > Text splitted to sentences.\n",
            "['3 epochs yay']\n",
            "   > Decoder stopped with `max_decoder_steps` 500\n",
            " > Processing time: 21.047374486923218\n",
            " > Real-time factor: 0.5967189813571778\n",
            " > Saving output to /content/drive/MyDrive/output/model2.wav\n"
          ]
        }
      ]
    },
    {
      "cell_type": "code",
      "source": [
        ""
      ],
      "metadata": {
        "id": "BUIarteG-D6H"
      },
      "execution_count": null,
      "outputs": []
    }
  ],
  "metadata": {
    "accelerator": "GPU",
    "colab": {
      "machine_shape": "hm",
      "name": "Copy of Tactron_Train_original_model (3).ipynb",
      "provenance": [],
      "collapsed_sections": []
    },
    "kernelspec": {
      "display_name": "Python 3",
      "name": "python3"
    },
    "language_info": {
      "name": "python"
    }
  },
  "nbformat": 4,
  "nbformat_minor": 0
}