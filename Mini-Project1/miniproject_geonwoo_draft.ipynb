{
 "cells": [
  {
   "cell_type": "code",
   "execution_count": 1,
   "metadata": {
    "scrolled": true
   },
   "outputs": [
    {
     "name": "stdout",
     "output_type": "stream",
     "text": [
      "Defaulting to user installation because normal site-packages is not writeable\n",
      "Requirement already satisfied: torch in /home/gl1858/.local/lib/python3.8/site-packages (1.10.2)\n",
      "Requirement already satisfied: typing-extensions in /home/gl1858/.local/lib/python3.8/site-packages (from torch) (4.1.1)\n",
      "\u001b[33mWARNING: You are using pip version 20.2.3; however, version 22.0.4 is available.\n",
      "You should consider upgrading via the '/share/apps/python/3.8.6/intel/bin/python -m pip install --upgrade pip' command.\u001b[0m\n",
      "Note: you may need to restart the kernel to use updated packages.\n"
     ]
    }
   ],
   "source": [
    "pip install torch"
   ]
  },
  {
   "cell_type": "code",
   "execution_count": 5,
   "metadata": {},
   "outputs": [
    {
     "name": "stdout",
     "output_type": "stream",
     "text": [
      "Defaulting to user installation because normal site-packages is not writeable\n",
      "Collecting torchvision\n",
      "  Downloading torchvision-0.11.3-cp38-cp38-manylinux1_x86_64.whl (23.2 MB)\n",
      "\u001b[K     |████████████████████████████████| 23.2 MB 17.6 MB/s eta 0:00:01B 17.6 MB/s eta 0:00:01\n",
      "\u001b[?25hRequirement already satisfied: numpy in /share/apps/python/3.8.6/intel/lib/python3.8/site-packages/numpy-1.19.2-py3.8-linux-x86_64.egg (from torchvision) (1.19.2)\n",
      "Requirement already satisfied: torch==1.10.2 in /home/gl1858/.local/lib/python3.8/site-packages (from torchvision) (1.10.2)\n",
      "Requirement already satisfied: pillow!=8.3.0,>=5.3.0 in /share/apps/python/3.8.6/intel/lib/python3.8/site-packages (from torchvision) (8.0.1)\n",
      "Requirement already satisfied: typing-extensions in /home/gl1858/.local/lib/python3.8/site-packages (from torch==1.10.2->torchvision) (4.1.1)\n",
      "Installing collected packages: torchvision\n",
      "Successfully installed torchvision-0.11.3\n",
      "\u001b[33mWARNING: You are using pip version 20.2.3; however, version 22.0.4 is available.\n",
      "You should consider upgrading via the '/share/apps/python/3.8.6/intel/bin/python -m pip install --upgrade pip' command.\u001b[0m\n",
      "Note: you may need to restart the kernel to use updated packages.\n"
     ]
    }
   ],
   "source": [
    "pip install torchvision\n"
   ]
  },
  {
   "cell_type": "code",
   "execution_count": 1,
   "metadata": {},
   "outputs": [],
   "source": [
    "import torch\n",
    "import torch.nn as nn\n",
    "import torch.optim as optim\n",
    "import torch.nn.functional as F\n",
    "from torchvision import datasets, models, transforms\n",
    "import matplotlib.pyplot as plt\n",
    "import torchvision\n",
    "from torch.utils.data import DataLoader\n",
    "import torch.nn.functional as F"
   ]
  },
  {
   "cell_type": "code",
   "execution_count": 2,
   "metadata": {},
   "outputs": [],
   "source": [
    "class BasicBlock(nn.Module):\n",
    "\n",
    "    def __init__(self, in_planes, planes, stride=1):\n",
    "        super(BasicBlock, self).__init__()\n",
    "        self.conv1 = nn.Conv2d(\n",
    "            in_planes, planes, kernel_size=3, stride=stride, padding=1, bias=False)\n",
    "        self.bn1 = nn.BatchNorm2d(planes)\n",
    "        self.conv2 = nn.Conv2d(planes, planes, kernel_size=3,\n",
    "                               stride=1, padding=1, bias=False)\n",
    "        self.bn2 = nn.BatchNorm2d(planes)\n",
    "\n",
    "        self.shortcut = nn.Sequential()\n",
    "        if stride != 1 or in_planes != planes:\n",
    "            self.shortcut = nn.Sequential(\n",
    "                nn.Conv2d(in_planes, planes,\n",
    "                          kernel_size=1, stride=stride, bias=False),\n",
    "                nn.BatchNorm2d(planes)\n",
    "            )\n",
    "\n",
    "    def forward(self, x):\n",
    "        out = F.relu(self.bn1(self.conv1(x)))\n",
    "        out = self.bn2(self.conv2(out))\n",
    "        out += self.shortcut(x)\n",
    "        out = F.relu(out)\n",
    "        return out\n",
    "\n",
    "\n",
    "\n",
    "class ResNet(nn.Module):\n",
    "    def __init__(self, block, num_blocks, num_classes=10):\n",
    "        super(ResNet, self).__init__()\n",
    "        self.in_planes = 64\n",
    "\n",
    "        self.conv1 = nn.Conv2d(3, 64, kernel_size=3,\n",
    "                               stride=1, padding=1, bias=False)\n",
    "        self.bn1 = nn.BatchNorm2d(64)\n",
    "        self.layer1 = self._make_layer(block, 64, num_blocks[0], stride=1)\n",
    "        self.layer2 = self._make_layer(block, 128, num_blocks[1], stride=2)\n",
    "        self.layer3 = self._make_layer(block, 256, num_blocks[2], stride=2)\n",
    "        self.layer4 = self._make_layer(block, 512, num_blocks[3], stride=2)\n",
    "        self.linear = nn.Linear(512, num_classes)\n",
    "\n",
    "    def _make_layer(self, block, planes, num_blocks, stride):\n",
    "        strides = [stride] + [1]*(num_blocks-1)\n",
    "        layers = []\n",
    "        for stride in strides:\n",
    "            layers.append(block(self.in_planes, planes, stride))\n",
    "            self.in_planes = planes\n",
    "        return nn.Sequential(*layers)\n",
    "\n",
    "    def forward(self, x):\n",
    "        out = F.relu(self.bn1(self.conv1(x)))\n",
    "        out = self.layer1(out)\n",
    "        out = self.layer2(out)\n",
    "        out = self.layer3(out)\n",
    "        out = self.layer4(out)\n",
    "        out = F.avg_pool2d(out, 4)\n",
    "        out = out.view(out.size(0), -1)\n",
    "        out = self.linear(out)\n",
    "        return out\n",
    "\n",
    "def project1_model():\n",
    "    return ResNet(BasicBlock, [2, 2, 2, 2])"
   ]
  },
  {
   "cell_type": "code",
   "execution_count": 3,
   "metadata": {},
   "outputs": [
    {
     "name": "stdout",
     "output_type": "stream",
     "text": [
      "Files already downloaded and verified\n",
      "Files already downloaded and verified\n"
     ]
    }
   ],
   "source": [
    "Transform =  transforms.Compose([\n",
    "    transforms.Pad(4),\n",
    "    transforms.RandomHorizontalFlip(),\n",
    "    transforms.RandomCrop(32),\n",
    "    transforms.ToTensor()])\n",
    "trainingdata = torchvision.datasets.CIFAR10(root='./ data', train=True, download=True, transform=Transform) \n",
    "testdata = torchvision.datasets.CIFAR10(root='./data',  train=False, download=True, transform=Transform)"
   ]
  },
  {
   "cell_type": "code",
   "execution_count": 4,
   "metadata": {},
   "outputs": [],
   "source": [
    "trainDataLoader = DataLoader(trainingdata, batch_size= 64, shuffle=True)\n",
    "testDataLoader = DataLoader(testdata, batch_size= 64, shuffle=False)"
   ]
  },
  {
   "cell_type": "code",
   "execution_count": 8,
   "metadata": {},
   "outputs": [],
   "source": [
    "model=project1_model()\n",
    "Loss = nn.CrossEntropyLoss()\n",
    "optimizer = optim.SGD(model.parameters(), lr=0.001, momentum=0.9)\n",
    "device = torch.device('cuda' if torch.cuda.is_available() else 'cpu')\n",
    "\n",
    "if torch.cuda.is_available():\n",
    "    model.cuda()"
   ]
  },
  {
   "cell_type": "code",
   "execution_count": 13,
   "metadata": {},
   "outputs": [
    {
     "name": "stdout",
     "output_type": "stream",
     "text": [
      "Epoch 0, Train loss 0.31696353921347564, Test loss 0.4322978141391353 Train accuracy 56.90281329923274 Test accuracy  54.24203821656051\n",
      "Epoch 1, Train loss 0.29040780549159134, Test loss 0.41470552069746003 Train accuracy 57.48849104859335 Test accuracy  54.92993630573248\n",
      "Epoch 2, Train loss 0.28228718980841927, Test loss 0.4053190400835815 Train accuracy 57.63427109974425 Test accuracy  55.0\n",
      "Epoch 3, Train loss 0.26467034901918657, Test loss 0.4120910758045828 Train accuracy 58.01662404092072 Test accuracy  54.97452229299363\n",
      "Epoch 4, Train loss 0.2515747533334643, Test loss 0.39744728291110626 Train accuracy 58.41943734015345 Test accuracy  55.10828025477707\n",
      "Epoch 5, Train loss 0.23362368424339672, Test loss 0.38353143713087035 Train accuracy 58.705882352941174 Test accuracy  55.78343949044586\n",
      "Epoch 6, Train loss 0.227634668107266, Test loss 0.40026993081448187 Train accuracy 58.84398976982097 Test accuracy  55.17197452229299\n",
      "Epoch 7, Train loss 0.21662105924790473, Test loss 0.36841565166499207 Train accuracy 59.08312020460358 Test accuracy  55.93630573248408\n",
      "Epoch 8, Train loss 0.20223224211646162, Test loss 0.3665915589518608 Train accuracy 59.41943734015345 Test accuracy  56.0828025477707\n",
      "Epoch 9, Train loss 0.1982473365752898, Test loss 0.37827419304543997 Train accuracy 59.53964194373402 Test accuracy  55.681528662420384\n",
      "Epoch 10, Train loss 0.18395126449025195, Test loss 0.36796417191719555 Train accuracy 59.84398976982097 Test accuracy  56.2484076433121\n",
      "Epoch 11, Train loss 0.16987038287512787, Test loss 0.37184399945341096 Train accuracy 60.093350383631716 Test accuracy  56.19108280254777\n",
      "Epoch 12, Train loss 0.16382994504926532, Test loss 0.37148484625634115 Train accuracy 60.267263427109974 Test accuracy  56.06369426751592\n",
      "Epoch 13, Train loss 0.15603513952316073, Test loss 0.3603896537119416 Train accuracy 60.42710997442455 Test accuracy  56.560509554140125\n",
      "Epoch 14, Train loss 0.14774544136908352, Test loss 0.3642411821871806 Train accuracy 60.58056265984655 Test accuracy  56.52229299363057\n",
      "Epoch 15, Train loss 0.14499657184523923, Test loss 0.38120797138874696 Train accuracy 60.64066496163683 Test accuracy  56.23566878980892\n",
      "Epoch 16, Train loss 0.13944100443502444, Test loss 0.3774089483413727 Train accuracy 60.827365728900254 Test accuracy  56.40764331210191\n",
      "Epoch 17, Train loss 0.12649567396191838, Test loss 0.37852474926098895 Train accuracy 61.10102301790281 Test accuracy  56.48407643312102\n",
      "Epoch 18, Train loss 0.12847946944010571, Test loss 0.3660180680691057 Train accuracy 60.99616368286445 Test accuracy  56.611464968152866\n",
      "Epoch 19, Train loss 0.11472266448704559, Test loss 0.3745103931161249 Train accuracy 61.351662404092075 Test accuracy  56.54140127388535\n",
      "Epoch 20, Train loss 0.10882313591559105, Test loss 0.3610603907590459 Train accuracy 61.52685421994885 Test accuracy  56.82802547770701\n",
      "Epoch 21, Train loss 0.10689016986314369, Test loss 0.3627523957828807 Train accuracy 61.574168797953966 Test accuracy  56.9171974522293\n",
      "Epoch 22, Train loss 0.10535412191001274, Test loss 0.36600090412624703 Train accuracy 61.549872122762146 Test accuracy  57.031847133757964\n",
      "Epoch 23, Train loss 0.09793632496636637, Test loss 0.3648823180538454 Train accuracy 61.69565217391305 Test accuracy  57.01273885350319\n",
      "Epoch 24, Train loss 0.09383307969855036, Test loss 0.3708426203270247 Train accuracy 61.794117647058826 Test accuracy  57.0\n"
     ]
    }
   ],
   "source": [
    "train_loss_history = []\n",
    "test_loss_history = []\n",
    "train_acc_history = [] \n",
    "test_acc_history = [] \n",
    "\n",
    "\n",
    "for epoch in range(25):\n",
    "    train_loss = 0.0\n",
    "    test_loss = 0.0\n",
    "    correct_points_train = 0 \n",
    "    correct_points_test = 0 \n",
    "    for i, data in enumerate(trainDataLoader):\n",
    "        images, labels = data\n",
    "        images = images.to(device)\n",
    "        labels = labels.to(device)\n",
    "        \n",
    "        predicted_output = model(images)\n",
    "        fit = Loss(predicted_output,labels)\n",
    "        optimizer.zero_grad()\n",
    "        fit.backward()\n",
    "        optimizer.step()\n",
    "        train_loss += fit.item()\n",
    "        correct_points_train +=  (torch.eq(torch.max(predicted_output, 1)[1],labels).sum()).data.cpu().numpy()\n",
    "    for i, data in enumerate(testDataLoader):\n",
    "        with torch.no_grad():\n",
    "            images, labels = data\n",
    "            images = images.to(device)\n",
    "            labels = labels.to(device)\n",
    "            predicted_output = model(images)\n",
    "            fit = Loss(predicted_output,labels)\n",
    "            test_loss += fit.item()\n",
    "            correct_points_test +=  (torch.eq(torch.max(predicted_output, 1) [1],labels).sum()).data.cpu().numpy() \n",
    "            \n",
    "    train_loss = train_loss/len(trainDataLoader)\n",
    "    test_loss = test_loss/len(testDataLoader)\n",
    "    \n",
    "    train_loss_history.append(train_loss)\n",
    "    test_loss_history.append(test_loss)\n",
    "    \n",
    "    train_acc = correct_points_train/len(trainDataLoader) \n",
    "    test_acc = correct_points_test/len(testDataLoader) \n",
    "    \n",
    "    train_acc_history.append(train_acc) \n",
    "    test_acc_history.append(test_acc)\n",
    "\n",
    "    print('Epoch %s, Train loss %s, Test loss %s Train accuracy %s Test accuracy  %s'%(epoch, train_loss, test_loss, train_acc, test_acc))\n",
    "    #print(\"Accuracy:\", (torch.eq(torch.max(predicted_output, 1)[1],labels).sum()/len(labels)*100).data.cpu().numpy())"
   ]
  },
  {
   "cell_type": "code",
   "execution_count": 14,
   "metadata": {},
   "outputs": [
    {
     "data": {
      "text/plain": [
       "<matplotlib.legend.Legend at 0x149bcd6cca90>"
      ]
     },
     "execution_count": 14,
     "metadata": {},
     "output_type": "execute_result"
    },
    {
     "data": {
      "image/png": "[encoded data removed]",
      "text/plain": [
       "<Figure size 432x288 with 1 Axes>"
      ]
     },
     "metadata": {
      "needs_background": "light"
     },
     "output_type": "display_data"
    }
   ],
   "source": [
    "#import matplotlib.pyplot as plt\n",
    "%matplotlib inline\n",
    "plt.plot(range(25),train_loss_history,'-',linewidth=3,label='Train error')\n",
    "plt.plot(range(25),test_loss_history,'-',linewidth=3,label='Test error')\n",
    "plt.xlabel('epoch')\n",
    "plt.ylabel('loss')\n",
    "plt.grid(True)\n",
    "plt.legend()"
   ]
  },
  {
   "cell_type": "code",
   "execution_count": null,
   "metadata": {},
   "outputs": [],
   "source": []
  }
 ],
 "metadata": {
  "kernelspec": {
   "display_name": "Python 3",
   "language": "python",
   "name": "python3"
  },
  "language_info": {
   "codemirror_mode": {
    "name": "ipython",
    "version": 3
   },
   "file_extension": ".py",
   "mimetype": "text/x-python",
   "name": "python",
   "nbconvert_exporter": "python",
   "pygments_lexer": "ipython3",
   "version": "3.8.6"
  }
 },
 "nbformat": 4,
 "nbformat_minor": 4
}
