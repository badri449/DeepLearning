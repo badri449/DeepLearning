{
 "cells": [
  {
   "cell_type": "code",
   "execution_count": 2,
   "metadata": {
    "scrolled": true
   },
   "outputs": [
    {
     "name": "stdout",
     "output_type": "stream",
     "text": [
      "Defaulting to user installation because normal site-packages is not writeable\n",
      "Requirement already satisfied: torch in /home/gl1858/.local/lib/python3.8/site-packages (1.10.2)\n",
      "Requirement already satisfied: typing-extensions in /home/gl1858/.local/lib/python3.8/site-packages (from torch) (4.1.1)\n",
      "\u001b[33mWARNING: You are using pip version 20.2.3; however, version 22.0.4 is available.\n",
      "You should consider upgrading via the '/share/apps/python/3.8.6/intel/bin/python -m pip install --upgrade pip' command.\u001b[0m\n",
      "Note: you may need to restart the kernel to use updated packages.\n"
     ]
    }
   ],
   "source": [
    "pip install torch"
   ]
  },
  {
   "cell_type": "code",
   "execution_count": 3,
   "metadata": {},
   "outputs": [
    {
     "name": "stdout",
     "output_type": "stream",
     "text": [
      "Defaulting to user installation because normal site-packages is not writeable\n",
      "Requirement already satisfied: torchvision in /home/gl1858/.local/lib/python3.8/site-packages (0.11.3)\n",
      "Requirement already satisfied: pillow!=8.3.0,>=5.3.0 in /share/apps/python/3.8.6/intel/lib/python3.8/site-packages (from torchvision) (8.0.1)\n",
      "Requirement already satisfied: torch==1.10.2 in /home/gl1858/.local/lib/python3.8/site-packages (from torchvision) (1.10.2)\n",
      "Requirement already satisfied: numpy in /share/apps/python/3.8.6/intel/lib/python3.8/site-packages/numpy-1.19.2-py3.8-linux-x86_64.egg (from torchvision) (1.19.2)\n",
      "Requirement already satisfied: typing-extensions in /home/gl1858/.local/lib/python3.8/site-packages (from torch==1.10.2->torchvision) (4.1.1)\n",
      "\u001b[33mWARNING: You are using pip version 20.2.3; however, version 22.0.4 is available.\n",
      "You should consider upgrading via the '/share/apps/python/3.8.6/intel/bin/python -m pip install --upgrade pip' command.\u001b[0m\n",
      "Note: you may need to restart the kernel to use updated packages.\n"
     ]
    }
   ],
   "source": [
    "pip install torchvision\n"
   ]
  },
  {
   "cell_type": "code",
   "execution_count": 12,
   "metadata": {},
   "outputs": [],
   "source": [
    "import torch\n",
    "import torch.nn as nn\n",
    "import torch.optim as optim\n",
    "import torch.nn.functional as F\n",
    "from torchvision import datasets, models, transforms\n",
    "import matplotlib.pyplot as plt\n",
    "import torchvision\n",
    "from torch.utils.data import DataLoader\n",
    "import torch.nn.functional as F"
   ]
  },
  {
   "cell_type": "code",
   "execution_count": 13,
   "metadata": {},
   "outputs": [],
   "source": [
    "class BasicBlock(nn.Module):\n",
    "\n",
    "    def __init__(self, in_planes, planes, stride=1):\n",
    "        super(BasicBlock, self).__init__()\n",
    "        self.conv1 = nn.Conv2d(\n",
    "            in_planes, planes, kernel_size=3, stride=stride, padding=1, bias=False)\n",
    "        self.bn1 = nn.BatchNorm2d(planes)\n",
    "        self.conv2 = nn.Conv2d(planes, planes, kernel_size=3,\n",
    "                               stride=1, padding=1, bias=False)\n",
    "        self.bn2 = nn.BatchNorm2d(planes)\n",
    "\n",
    "        self.shortcut = nn.Sequential()\n",
    "        if stride != 1 or in_planes != planes:\n",
    "            self.shortcut = nn.Sequential(\n",
    "                nn.Conv2d(in_planes, planes,\n",
    "                          kernel_size=1, stride=stride, bias=False),\n",
    "                nn.BatchNorm2d(planes)\n",
    "            )\n",
    "\n",
    "    def forward(self, x):\n",
    "        out = F.relu(self.bn1(self.conv1(x)))\n",
    "        out = self.bn2(self.conv2(out))\n",
    "        out += self.shortcut(x)\n",
    "        out = F.relu(out)\n",
    "        return out\n",
    "\n",
    "\n",
    "\n",
    "class ResNet(nn.Module):\n",
    "    def __init__(self, block, num_blocks, num_classes=10):\n",
    "        super(ResNet, self).__init__()\n",
    "        self.in_planes = 64\n",
    "\n",
    "        self.conv1 = nn.Conv2d(3, 64, kernel_size=3,\n",
    "                               stride=1, padding=1, bias=False)\n",
    "        self.bn1 = nn.BatchNorm2d(64)\n",
    "        self.layer1 = self._make_layer(block, 64, num_blocks[0], stride=1)\n",
    "        self.layer2 = self._make_layer(block, 128, num_blocks[1], stride=2)\n",
    "        self.layer3 = self._make_layer(block, 256, num_blocks[2], stride=2)\n",
    "        self.layer4 = self._make_layer(block, 512, num_blocks[3], stride=2)\n",
    "        self.linear = nn.Linear(512, num_classes)\n",
    "\n",
    "    def _make_layer(self, block, planes, num_blocks, stride):\n",
    "        strides = [stride] + [1]*(num_blocks-1)\n",
    "        layers = []\n",
    "        for stride in strides:\n",
    "            layers.append(block(self.in_planes, planes, stride))\n",
    "            self.in_planes = planes\n",
    "        return nn.Sequential(*layers)\n",
    "\n",
    "    def forward(self, x):\n",
    "        out = F.relu(self.bn1(self.conv1(x)))\n",
    "        out = self.layer1(out)\n",
    "        out = self.layer2(out)\n",
    "        out = self.layer3(out)\n",
    "        out = self.layer4(out)\n",
    "        out = F.avg_pool2d(out, 4)\n",
    "        out = out.view(out.size(0), -1)\n",
    "        out = self.linear(out)\n",
    "        return out\n",
    "\n",
    "def project1_model():\n",
    "    return ResNet(BasicBlock, [1, 1, 1, 1])"
   ]
  },
  {
   "cell_type": "code",
   "execution_count": 14,
   "metadata": {},
   "outputs": [
    {
     "name": "stdout",
     "output_type": "stream",
     "text": [
      "Files already downloaded and verified\n",
      "Files already downloaded and verified\n"
     ]
    }
   ],
   "source": [
    "Transform =  transforms.Compose([\n",
    "    transforms.Pad(4),\n",
    "    transforms.RandomHorizontalFlip(),\n",
    "    transforms.RandomCrop(32),\n",
    "    transforms.ToTensor(),\n",
    "    transforms.Normalize([0.485, 0.456, 0.406], [0.229, 0.224, 0.225])])\n",
    "trainingdata = torchvision.datasets.CIFAR10(root='./ data', train=True, download=True, transform=Transform) \n",
    "Transform =  transforms.Compose([\n",
    "    transforms.ToTensor(),\n",
    "    transforms.Normalize([0.485, 0.456, 0.406], [0.229, 0.224, 0.225])])\n",
    "testdata = torchvision.datasets.CIFAR10(root='./data',  train=False, download=True, transform=Transform)"
   ]
  },
  {
   "cell_type": "code",
   "execution_count": 22,
   "metadata": {},
   "outputs": [],
   "source": [
    "trainDataLoader = DataLoader(trainingdata, batch_size= 64, shuffle=True,num_workers=4)\n",
    "testDataLoader = DataLoader(testdata, batch_size= 64, shuffle=False,num_workers=4)"
   ]
  },
  {
   "cell_type": "code",
   "execution_count": 16,
   "metadata": {},
   "outputs": [],
   "source": [
    "model=project1_model()\n",
    "Loss = nn.CrossEntropyLoss()\n",
    "optimizer = optim.SGD(model.parameters(), lr=0.001, momentum=0.9)\n",
    "device = torch.device('cuda' if torch.cuda.is_available() else 'cpu')\n",
    "\n",
    "if torch.cuda.is_available():\n",
    "    model.cuda()"
   ]
  },
  {
   "cell_type": "code",
   "execution_count": 17,
   "metadata": {},
   "outputs": [
    {
     "name": "stdout",
     "output_type": "stream",
     "text": [
      "=================================================================\n",
      "Layer (type:depth-idx)                   Param #\n",
      "=================================================================\n",
      "├─Conv2d: 1-1                            1,728\n",
      "├─BatchNorm2d: 1-2                       128\n",
      "├─Sequential: 1-3                        --\n",
      "|    └─BasicBlock: 2-1                   --\n",
      "|    |    └─Conv2d: 3-1                  36,864\n",
      "|    |    └─BatchNorm2d: 3-2             128\n",
      "|    |    └─Conv2d: 3-3                  36,864\n",
      "|    |    └─BatchNorm2d: 3-4             128\n",
      "|    |    └─Sequential: 3-5              --\n",
      "├─Sequential: 1-4                        --\n",
      "|    └─BasicBlock: 2-2                   --\n",
      "|    |    └─Conv2d: 3-6                  73,728\n",
      "|    |    └─BatchNorm2d: 3-7             256\n",
      "|    |    └─Conv2d: 3-8                  147,456\n",
      "|    |    └─BatchNorm2d: 3-9             256\n",
      "|    |    └─Sequential: 3-10             8,448\n",
      "├─Sequential: 1-5                        --\n",
      "|    └─BasicBlock: 2-3                   --\n",
      "|    |    └─Conv2d: 3-11                 294,912\n",
      "|    |    └─BatchNorm2d: 3-12            512\n",
      "|    |    └─Conv2d: 3-13                 589,824\n",
      "|    |    └─BatchNorm2d: 3-14            512\n",
      "|    |    └─Sequential: 3-15             33,280\n",
      "├─Sequential: 1-6                        --\n",
      "|    └─BasicBlock: 2-4                   --\n",
      "|    |    └─Conv2d: 3-16                 1,179,648\n",
      "|    |    └─BatchNorm2d: 3-17            1,024\n",
      "|    |    └─Conv2d: 3-18                 2,359,296\n",
      "|    |    └─BatchNorm2d: 3-19            1,024\n",
      "|    |    └─Sequential: 3-20             132,096\n",
      "├─Linear: 1-7                            5,130\n",
      "=================================================================\n",
      "Total params: 4,903,242\n",
      "Trainable params: 4,903,242\n",
      "Non-trainable params: 0\n",
      "=================================================================\n"
     ]
    },
    {
     "data": {
      "text/plain": [
       "=================================================================\n",
       "Layer (type:depth-idx)                   Param #\n",
       "=================================================================\n",
       "├─Conv2d: 1-1                            1,728\n",
       "├─BatchNorm2d: 1-2                       128\n",
       "├─Sequential: 1-3                        --\n",
       "|    └─BasicBlock: 2-1                   --\n",
       "|    |    └─Conv2d: 3-1                  36,864\n",
       "|    |    └─BatchNorm2d: 3-2             128\n",
       "|    |    └─Conv2d: 3-3                  36,864\n",
       "|    |    └─BatchNorm2d: 3-4             128\n",
       "|    |    └─Sequential: 3-5              --\n",
       "├─Sequential: 1-4                        --\n",
       "|    └─BasicBlock: 2-2                   --\n",
       "|    |    └─Conv2d: 3-6                  73,728\n",
       "|    |    └─BatchNorm2d: 3-7             256\n",
       "|    |    └─Conv2d: 3-8                  147,456\n",
       "|    |    └─BatchNorm2d: 3-9             256\n",
       "|    |    └─Sequential: 3-10             8,448\n",
       "├─Sequential: 1-5                        --\n",
       "|    └─BasicBlock: 2-3                   --\n",
       "|    |    └─Conv2d: 3-11                 294,912\n",
       "|    |    └─BatchNorm2d: 3-12            512\n",
       "|    |    └─Conv2d: 3-13                 589,824\n",
       "|    |    └─BatchNorm2d: 3-14            512\n",
       "|    |    └─Sequential: 3-15             33,280\n",
       "├─Sequential: 1-6                        --\n",
       "|    └─BasicBlock: 2-4                   --\n",
       "|    |    └─Conv2d: 3-16                 1,179,648\n",
       "|    |    └─BatchNorm2d: 3-17            1,024\n",
       "|    |    └─Conv2d: 3-18                 2,359,296\n",
       "|    |    └─BatchNorm2d: 3-19            1,024\n",
       "|    |    └─Sequential: 3-20             132,096\n",
       "├─Linear: 1-7                            5,130\n",
       "=================================================================\n",
       "Total params: 4,903,242\n",
       "Trainable params: 4,903,242\n",
       "Non-trainable params: 0\n",
       "================================================================="
      ]
     },
     "execution_count": 17,
     "metadata": {},
     "output_type": "execute_result"
    }
   ],
   "source": [
    "from torchsummary import summary\n",
    "summary(model)"
   ]
  },
  {
   "cell_type": "code",
   "execution_count": 23,
   "metadata": {},
   "outputs": [
    {
     "name": "stdout",
     "output_type": "stream",
     "text": [
      "len of train data: 782\n",
      "len  of testdataloader: 157\n",
      "Epoch 0, Train loss 1.3399652465987388, Test loss 1.2874177109663654 Train accuracy tensor(32.7903, device='cuda:0') Test accuracy  tensor(33.9745, device='cuda:0')\n",
      "len of train data: 782\n",
      "len  of testdataloader: 157\n",
      "Epoch 1, Train loss 1.2969916161063992, Test loss 1.2223115426719569 Train accuracy tensor(34.0051, device='cuda:0') Test accuracy  tensor(36., device='cuda:0')\n",
      "len of train data: 782\n",
      "len  of testdataloader: 157\n",
      "Epoch 2, Train loss 1.252819352137768, Test loss 1.2094370593690569 Train accuracy tensor(35.1969, device='cuda:0') Test accuracy  tensor(35.9427, device='cuda:0')\n",
      "len of train data: 782\n",
      "len  of testdataloader: 157\n",
      "Epoch 3, Train loss 1.212410537940462, Test loss 1.144773872794619 Train accuracy tensor(36.0652, device='cuda:0') Test accuracy  tensor(37.5223, device='cuda:0')\n",
      "len of train data: 782\n",
      "len  of testdataloader: 157\n",
      "Epoch 4, Train loss 1.1717435537701677, Test loss 1.101238402971037 Train accuracy tensor(37.1509, device='cuda:0') Test accuracy  tensor(38.7389, device='cuda:0')\n",
      "len of train data: 782\n",
      "len  of testdataloader: 157\n",
      "Epoch 5, Train loss 1.1284910211020418, Test loss 1.0970111432348846 Train accuracy tensor(38.1829, device='cuda:0') Test accuracy  tensor(38.8153, device='cuda:0')\n",
      "len of train data: 782\n",
      "len  of testdataloader: 157\n",
      "Epoch 6, Train loss 1.0900390039167136, Test loss 1.0927645374255575 Train accuracy tensor(39.1164, device='cuda:0') Test accuracy  tensor(39.4713, device='cuda:0')\n",
      "len of train data: 782\n",
      "len  of testdataloader: 157\n",
      "Epoch 7, Train loss 1.0595999030048584, Test loss 1.0460757916900003 Train accuracy tensor(39.8798, device='cuda:0') Test accuracy  tensor(39.9172, device='cuda:0')\n",
      "len of train data: 782\n",
      "len  of testdataloader: 157\n",
      "Epoch 8, Train loss 1.023771014055023, Test loss 1.0003996738203011 Train accuracy tensor(40.7928, device='cuda:0') Test accuracy  tensor(41.1401, device='cuda:0')\n",
      "len of train data: 782\n",
      "len  of testdataloader: 157\n",
      "Epoch 9, Train loss 0.9942052997743992, Test loss 0.9923033068893822 Train accuracy tensor(41.4156, device='cuda:0') Test accuracy  tensor(41.4268, device='cuda:0')\n",
      "len of train data: 782\n",
      "len  of testdataloader: 157\n",
      "Epoch 10, Train loss 0.9693884282465786, Test loss 0.9551775576962027 Train accuracy tensor(41.9335, device='cuda:0') Test accuracy  tensor(42.3376, device='cuda:0')\n",
      "len of train data: 782\n",
      "len  of testdataloader: 157\n",
      "Epoch 11, Train loss 0.9433692935330179, Test loss 0.9421651872100344 Train accuracy tensor(42.5575, device='cuda:0') Test accuracy  tensor(42.6943, device='cuda:0')\n",
      "len of train data: 782\n",
      "len  of testdataloader: 157\n",
      "Epoch 12, Train loss 0.9244682231675023, Test loss 0.9016344664962428 Train accuracy tensor(43.2174, device='cuda:0') Test accuracy  tensor(43.8981, device='cuda:0')\n",
      "len of train data: 782\n",
      "len  of testdataloader: 157\n",
      "Epoch 13, Train loss 0.8965283448586379, Test loss 0.9282178893970077 Train accuracy tensor(43.6854, device='cuda:0') Test accuracy  tensor(43.2484, device='cuda:0')\n",
      "len of train data: 782\n",
      "len  of testdataloader: 157\n",
      "Epoch 14, Train loss 0.879174183091849, Test loss 0.9080145628588974 Train accuracy tensor(44.2442, device='cuda:0') Test accuracy  tensor(43.6752, device='cuda:0')\n",
      "len of train data: 782\n",
      "len  of testdataloader: 157\n",
      "Epoch 15, Train loss 0.8605036548793773, Test loss 0.8508994457828012 Train accuracy tensor(44.5038, device='cuda:0') Test accuracy  tensor(44.7962, device='cuda:0')\n",
      "len of train data: 782\n",
      "len  of testdataloader: 157\n",
      "Epoch 16, Train loss 0.8400120005735656, Test loss 0.8896534110710119 Train accuracy tensor(44.9936, device='cuda:0') Test accuracy  tensor(43.8408, device='cuda:0')\n",
      "len of train data: 782\n",
      "len  of testdataloader: 157\n",
      "Epoch 17, Train loss 0.8212264781946417, Test loss 0.819591892562854 Train accuracy tensor(45.6164, device='cuda:0') Test accuracy  tensor(45.4713, device='cuda:0')\n",
      "len of train data: 782\n",
      "len  of testdataloader: 157\n",
      "Epoch 18, Train loss 0.8120670866630876, Test loss 0.8410122343309366 Train accuracy tensor(45.7136, device='cuda:0') Test accuracy  tensor(45.2994, device='cuda:0')\n",
      "len of train data: 782\n",
      "len  of testdataloader: 157\n",
      "Epoch 19, Train loss 0.7861892546305571, Test loss 0.8064083324116507 Train accuracy tensor(46.2238, device='cuda:0') Test accuracy  tensor(45.9363, device='cuda:0')\n"
     ]
    }
   ],
   "source": [
    "train_loss_history = []\n",
    "test_loss_history = []\n",
    "train_acc_history = [] \n",
    "test_acc_history = [] \n",
    "\n",
    "\n",
    "for epoch in range(20):\n",
    "    train_loss = 0.0\n",
    "    test_loss = 0.0\n",
    "    correct_points_train = 0 \n",
    "    correct_points_test = 0 \n",
    "    for i, data in enumerate(trainDataLoader):\n",
    "        images, labels = data\n",
    "        images = images.to(device)\n",
    "        labels = labels.to(device)\n",
    "        optimizer.zero_grad()\n",
    "        predicted_output = model(images)\n",
    "        fit = Loss(predicted_output,labels)\n",
    "        fit.backward()\n",
    "        optimizer.step()\n",
    "        train_loss += fit.item()\n",
    "        _, preds = torch.max(predicted_output,1)\n",
    "        correct_points_train += torch.sum(preds == labels.data) #.data.cpu().numpy()\n",
    "    for i, data in enumerate(testDataLoader):\n",
    "        with torch.no_grad():\n",
    "            images, labels = data\n",
    "            images = images.to(device)\n",
    "            labels = labels.to(device)\n",
    "            predicted_output = model(images)\n",
    "            fit = Loss(predicted_output,labels)\n",
    "            test_loss += fit.item()\n",
    "            #print(predicted_output.shape)\n",
    "            _, preds = torch.max(predicted_output,1)\n",
    "            correct_points_test += torch.sum(preds == labels.data) #.data.cpu().numpy()\n",
    "            \n",
    "           \n",
    "            \n",
    "    train_loss = train_loss/len(trainDataLoader)\n",
    "    test_loss = test_loss/len(testDataLoader)\n",
    "    \n",
    "    train_loss_history.append(train_loss)\n",
    "    test_loss_history.append(test_loss)\n",
    "    \n",
    "    train_acc = correct_points_train/len(trainDataLoader) \n",
    "    print(\"len of train data:\",len(trainDataLoader))\n",
    "    test_acc = correct_points_test/len(testDataLoader)\n",
    "    print(\"len  of testdataloader:\",len(testDataLoader))\n",
    "    \n",
    "    train_acc_history.append(train_acc) \n",
    "    test_acc_history.append(test_acc)\n",
    "\n",
    "    print('Epoch %s, Train loss %s, Test loss %s Train accuracy %s Test accuracy  %s'%(epoch, train_loss, test_loss, train_acc, test_acc))\n",
    "    #print(\"Accuracy:\", (torch.eq(torch.max(predicted_output, 1)[1],labels).sum()/len(labels)*100).data.cpu().numpy())"
   ]
  },
  {
   "cell_type": "code",
   "execution_count": 58,
   "metadata": {},
   "outputs": [
    {
     "data": {
      "text/plain": [
       "<matplotlib.legend.Legend at 0x1474341b4550>"
      ]
     },
     "execution_count": 58,
     "metadata": {},
     "output_type": "execute_result"
    },
    {
     "data": {
      "image/png": "[encoded data removed]",
      "text/plain": [
       "<Figure size 432x288 with 1 Axes>"
      ]
     },
     "metadata": {
      "needs_background": "light"
     },
     "output_type": "display_data"
    }
   ],
   "source": [
    "#import matplotlib.pyplot as plt\n",
    "%matplotlib inline\n",
    "plt.plot(range(10),train_loss_history,'-',linewidth=3,label='Train error')\n",
    "plt.plot(range(10),test_loss_history,'-',linewidth=3,label='Test error')\n",
    "plt.xlabel('epoch')\n",
    "plt.ylabel('loss')\n",
    "plt.grid(True)\n",
    "plt.legend()"
   ]
  },
  {
   "cell_type": "code",
   "execution_count": null,
   "metadata": {},
   "outputs": [],
   "source": []
  }
 ],
 "metadata": {
  "kernelspec": {
   "display_name": "Python 3",
   "language": "python",
   "name": "python3"
  },
  "language_info": {
   "codemirror_mode": {
    "name": "ipython",
    "version": 3
   },
   "file_extension": ".py",
   "mimetype": "text/x-python",
   "name": "python",
   "nbconvert_exporter": "python",
   "pygments_lexer": "ipython3",
   "version": "3.8.6"
  }
 },
 "nbformat": 4,
 "nbformat_minor": 4
}
